{
  "nbformat": 4,
  "nbformat_minor": 0,
  "metadata": {
    "colab": {
      "name": "Untitled0.ipynb",
      "provenance": [],
      "collapsed_sections": []
    },
    "kernelspec": {
      "name": "python3",
      "display_name": "Python 3"
    }
  },
  "cells": [
    {
      "cell_type": "code",
      "metadata": {
        "id": "QdYYV5HJO4r5",
        "colab_type": "code",
        "outputId": "8808af5c-8bed-4ea6-b424-fd2d654b0ced",
        "colab": {
          "base_uri": "https://localhost:8080/",
          "height": 34
        }
      },
      "source": [
        "from google.colab import drive\n",
        "drive.mount('/content/drive')"
      ],
      "execution_count": 0,
      "outputs": [
        {
          "output_type": "stream",
          "text": [
            "Drive already mounted at /content/drive; to attempt to forcibly remount, call drive.mount(\"/content/drive\", force_remount=True).\n"
          ],
          "name": "stdout"
        }
      ]
    },
    {
      "cell_type": "code",
      "metadata": {
        "id": "N7WC21VnPDEH",
        "colab_type": "code",
        "colab": {}
      },
      "source": [
        "import pandas as pd\n",
        "import numpy as np\n",
        "from os.path import join\n",
        "import glob\n",
        "import os\n",
        "\n",
        "# James's path\n",
        "training_prefix='/content/drive/My Drive/large_dataset/training/'\n",
        "test_prefix='/content/drive/My Drive/large_dataset/validation/'\n",
        "\n",
        "def load_data_from_files_with_id(prefix):\n",
        "    prefix = prefix.rstrip(os.sep)\n",
        "    files = [f for f in glob.iglob(join(prefix, join('**', '*.csv')), recursive=True)]\n",
        "    print(\"Loading data from {} files...\".format(len(files)))\n",
        "\n",
        "    df_list = []\n",
        "    #for i in range(len(files)):\n",
        "    for i in range(10):\n",
        "      df = pd.read_csv(files[i], header = 0)\n",
        "      idx = [i] * df.shape[0]\n",
        "      df['id'] = idx\n",
        "\n",
        "      fname = os.path.splitext(os.path.split(files[i])[1])[0]\n",
        "     # print('name is {}' .format(fname))\n",
        "      df['filename'] = fname\n",
        "      df_list.append(df)\n",
        "\n",
        "    return pd.concat(df_list)\n",
        "\n",
        "def process_data(data):\n",
        "  data = data.set_index('id')\n",
        "  unique_ids = data.index.unique()\n",
        "  return data, unique_ids"
      ],
      "execution_count": 0,
      "outputs": []
    },
    {
      "cell_type": "code",
      "metadata": {
        "id": "wFFUlaR1PtC6",
        "colab_type": "code",
        "outputId": "0724bdd5-3d07-40da-ccc2-099d8b7cb107",
        "colab": {
          "base_uri": "https://localhost:8080/",
          "height": 68
        }
      },
      "source": [
        "train = load_data_from_files_with_id(training_prefix)\n",
        "test = load_data_from_files_with_id(test_prefix)\n",
        "\n",
        "train, train_ids = process_data(train)\n",
        "test, test_ids = process_data(test)\n",
        "\n",
        "print(train.shape, test.shape)"
      ],
      "execution_count": 0,
      "outputs": [
        {
          "output_type": "stream",
          "text": [
            "Loading data from 798 files...\n",
            "Loading data from 150 files...\n",
            "(1988, 16) (1982, 16)\n"
          ],
          "name": "stdout"
        }
      ]
    },
    {
      "cell_type": "code",
      "metadata": {
        "id": "DZCR73i2eAmV",
        "colab_type": "code",
        "outputId": "431f33f8-1bc8-451d-f3c2-518f49614178",
        "colab": {
          "base_uri": "https://localhost:8080/",
          "height": 272
        }
      },
      "source": [
        "print(train.head)"
      ],
      "execution_count": 0,
      "outputs": [
        {
          "output_type": "stream",
          "text": [
            "<bound method NDFrame.head of            vx  ...                                           filename\n",
            "id             ...                                                   \n",
            "0  -10.954589  ...  training_0000_segment-10526338824408452410_571...\n",
            "0  -10.930109  ...  training_0000_segment-10526338824408452410_571...\n",
            "0  -10.861781  ...  training_0000_segment-10526338824408452410_571...\n",
            "0  -10.822652  ...  training_0000_segment-10526338824408452410_571...\n",
            "0  -10.776157  ...  training_0000_segment-10526338824408452410_571...\n",
            "..        ...  ...                                                ...\n",
            "9  -10.408837  ...  training_0000_segment-11799592541704458019_982...\n",
            "9  -10.646922  ...  training_0000_segment-11799592541704458019_982...\n",
            "9  -10.894691  ...  training_0000_segment-11799592541704458019_982...\n",
            "9  -11.166045  ...  training_0000_segment-11799592541704458019_982...\n",
            "9  -11.391324  ...  training_0000_segment-11799592541704458019_982...\n",
            "\n",
            "[1988 rows x 16 columns]>\n"
          ],
          "name": "stdout"
        }
      ]
    },
    {
      "cell_type": "code",
      "metadata": {
        "id": "Y4aBueC_RzNf",
        "colab_type": "code",
        "colab": {}
      },
      "source": [
        "#train['filename'].head()\n",
        "train.to_csv(os.getcwd()+'/drive/My Drive/testtest.csv', index = None, header = True)\n"
      ],
      "execution_count": 0,
      "outputs": []
    },
    {
      "cell_type": "code",
      "metadata": {
        "id": "C8Loso_4R2yq",
        "colab_type": "code",
        "colab": {}
      },
      "source": [
        "def append_lag_features_for_single_id(single_data, feat_names, prev_n):\n",
        "  data = single_data.copy()\n",
        "\n",
        "  lag_feat = pd.DataFrame(single_data[feat_names].copy())\n",
        "\n",
        "  for feat_name in feat_names:\n",
        "    for i in range(1, prev_n + 1):\n",
        "      data['{}_lag_{}'.format(feat_name, i)] = lag_feat[feat_name].shift(i)\n",
        "\n",
        "  return data.dropna()\n",
        "\n",
        "def append_lag_features(ori_data, uniq_ids, feat_names, prev_n):\n",
        "  df_list = []\n",
        "  for identifier in uniq_ids:\n",
        "    single_data = ori_data.loc[identifier] #1\n",
        "    processed_data = append_lag_features_for_single_id(single_data, feat_names, prev_n)\n",
        "    df_list.append(processed_data)\n",
        "\n",
        "  return pd.concat(df_list)\n",
        "  "
      ],
      "execution_count": 0,
      "outputs": []
    },
    {
      "cell_type": "code",
      "metadata": {
        "id": "dRLmF9R4R5zX",
        "colab_type": "code",
        "outputId": "c82e4b3f-9901-46e0-e8df-8170b7173e9c",
        "colab": {
          "base_uri": "https://localhost:8080/",
          "height": 34
        }
      },
      "source": [
        "prev_n = 2\n",
        "lag_feats = ['vx', 'vy', 'vz']\n",
        "\n",
        "train_lagged = append_lag_features(train, train_ids, lag_feats, prev_n)\n",
        "test_lagged = append_lag_features(test, test_ids, lag_feats, prev_n)\n",
        "\n",
        "print(train_lagged.shape, test_lagged.shape)\n"
      ],
      "execution_count": 0,
      "outputs": [
        {
          "output_type": "stream",
          "text": [
            "(1968, 22) (1962, 22)\n"
          ],
          "name": "stdout"
        }
      ]
    },
    {
      "cell_type": "code",
      "metadata": {
        "id": "rBS7gRfwR9sD",
        "colab_type": "code",
        "colab": {}
      },
      "source": [
        "import pandas as pd\n",
        "import numpy as np\n",
        "import xgboost\n",
        "from lightgbm import LGBMRegressor\n",
        "from mlxtend.regressor import StackingRegressor\n",
        "from sklearn.linear_model import Lasso\n",
        "from sklearn.model_selection import train_test_split\n",
        "from sklearn.compose import make_column_transformer\n",
        "from sklearn.preprocessing import StandardScaler\n",
        "from sklearn.preprocessing import RobustScaler\n",
        "from sklearn.pipeline import make_pipeline\n",
        "from sklearn.model_selection import cross_val_score\n",
        "from sklearn.ensemble import GradientBoostingRegressor\n",
        "from sklearn.metrics import mean_absolute_error"
      ],
      "execution_count": 0,
      "outputs": []
    },
    {
      "cell_type": "code",
      "metadata": {
        "id": "8CGKcmG6SAeB",
        "colab_type": "code",
        "colab": {}
      },
      "source": [
        "train = train_lagged\n",
        "test = test_lagged"
      ],
      "execution_count": 0,
      "outputs": []
    },
    {
      "cell_type": "code",
      "metadata": {
        "id": "a89x2T7WSFPH",
        "colab_type": "code",
        "outputId": "6dcd21f2-6bb9-4b74-f9a7-59e01f7581cd",
        "colab": {
          "base_uri": "https://localhost:8080/",
          "height": 119
        }
      },
      "source": [
        "X = train.loc[:,['vx', 'vy', 'vz', 'dx', 'dy', 'vfx', 'vfy', 'vfz', 'afx', 'afy', 'afz', 'num_v_labels', \n",
        "                 'vx_lag_2', 'vy_lag_2', 'vz_lag_2']]\n",
        "Y_ax = train.loc[:,['ax']].values.ravel() # flatten to 1d array\n",
        "Y_ay = train.loc[:,['ay']].values.ravel()\n",
        "Y_az = train.loc[:,['az']].values.ravel()\n",
        "\n",
        "# y = Y_ax\n",
        "X_train_ax, X_test_ax, y_train_ax, y_test_ax = train_test_split(X, Y_ax)\n",
        "X_train_ay, X_test_ay, y_train_ay, y_test_ay = train_test_split(X, Y_ay)\n",
        "X_train_az, X_test_az, y_train_az, y_test_az = train_test_split(X, Y_az)\n",
        "\n",
        "X_test = test.loc[:,['vx', 'vy', 'vz', 'dx', 'dy', 'vfx', 'vfy', 'vfz', 'afx', 'afy', 'afz', 'num_v_labels',      \n",
        "                 'vx_lag_2', 'vy_lag_2', 'vz_lag_2']]\n",
        "Y_test_ax = test.loc[:, ['ax']].values.ravel()\n",
        "Y_test_ay = test.loc[:, ['ay']].values.ravel()\n",
        "Y_test_az = test.loc[:, ['az']].values.ravel()\n",
        "\n",
        "print(\"X_train_ax shape: {}, X_test_ax shape:{}\".format(X_train_ax.shape, X_test_ax.shape))\n",
        "print(\"y_train_ax shape: {}, y_test_ax shape:{}\".format(y_train_ax.shape, y_test_ax.shape))\n",
        "\n",
        "print(\"X_train_ay shape: {}, X_test_ay shape:{}\".format(X_train_ay.shape, X_test_ay.shape))\n",
        "print(\"y_train_ay shape: {}, y_test_ay shape:{}\".format(y_train_ay.shape, y_test_ay.shape))\n",
        "\n",
        "print(\"X_train_az shape: {}, X_test_az shape:{}\".format(X_train_az.shape, X_test_az.shape))\n",
        "print(\"y_train_az shape: {}, y_test_az shape:{}\".format(y_train_az.shape, y_test_az.shape))"
      ],
      "execution_count": 0,
      "outputs": [
        {
          "output_type": "stream",
          "text": [
            "X_train_ax shape: (1476, 15), X_test_ax shape:(492, 15)\n",
            "y_train_ax shape: (1476,), y_test_ax shape:(492,)\n",
            "X_train_ay shape: (1476, 15), X_test_ay shape:(492, 15)\n",
            "y_train_ay shape: (1476,), y_test_ay shape:(492,)\n",
            "X_train_az shape: (1476, 15), X_test_az shape:(492, 15)\n",
            "y_train_az shape: (1476,), y_test_az shape:(492,)\n"
          ],
          "name": "stdout"
        }
      ]
    },
    {
      "cell_type": "code",
      "metadata": {
        "id": "u3DZqV7FSHyz",
        "colab_type": "code",
        "outputId": "66cc4d13-5057-4e86-a25d-a9612cb3fbae",
        "colab": {
          "base_uri": "https://localhost:8080/",
          "height": 235
        }
      },
      "source": [
        "X_train_ay.head()\n",
        "s_scaler = RobustScaler()\n",
        "X_train_ay = pd.DataFrame(s_scaler.fit_transform(X_train_ay), \n",
        "                          index=X_train_ay.index, \n",
        "                          columns=X_train_ay.columns)\n",
        "X_test_ay = pd.DataFrame(s_scaler.fit_transform(X_test_ay), \n",
        "                          index=X_test_ay.index, \n",
        "                          columns=X_test_ay.columns)\n",
        "\n",
        "X_train_ay.head()\n",
        "X_test_ay.head()\n",
        "X_test_az.head()"
      ],
      "execution_count": 0,
      "outputs": [
        {
          "output_type": "execute_result",
          "data": {
            "text/html": [
              "<div>\n",
              "<style scoped>\n",
              "    .dataframe tbody tr th:only-of-type {\n",
              "        vertical-align: middle;\n",
              "    }\n",
              "\n",
              "    .dataframe tbody tr th {\n",
              "        vertical-align: top;\n",
              "    }\n",
              "\n",
              "    .dataframe thead th {\n",
              "        text-align: right;\n",
              "    }\n",
              "</style>\n",
              "<table border=\"1\" class=\"dataframe\">\n",
              "  <thead>\n",
              "    <tr style=\"text-align: right;\">\n",
              "      <th></th>\n",
              "      <th>vx</th>\n",
              "      <th>vy</th>\n",
              "      <th>vz</th>\n",
              "      <th>dx</th>\n",
              "      <th>dy</th>\n",
              "      <th>vfx</th>\n",
              "      <th>vfy</th>\n",
              "      <th>vfz</th>\n",
              "      <th>afx</th>\n",
              "      <th>afy</th>\n",
              "      <th>afz</th>\n",
              "      <th>num_v_labels</th>\n",
              "      <th>vx_lag_2</th>\n",
              "      <th>vy_lag_2</th>\n",
              "      <th>vz_lag_2</th>\n",
              "    </tr>\n",
              "    <tr>\n",
              "      <th>id</th>\n",
              "      <th></th>\n",
              "      <th></th>\n",
              "      <th></th>\n",
              "      <th></th>\n",
              "      <th></th>\n",
              "      <th></th>\n",
              "      <th></th>\n",
              "      <th></th>\n",
              "      <th></th>\n",
              "      <th></th>\n",
              "      <th></th>\n",
              "      <th></th>\n",
              "      <th></th>\n",
              "      <th></th>\n",
              "      <th></th>\n",
              "    </tr>\n",
              "  </thead>\n",
              "  <tbody>\n",
              "    <tr>\n",
              "      <th>2</th>\n",
              "      <td>-2.618572</td>\n",
              "      <td>-3.919568</td>\n",
              "      <td>-0.006162</td>\n",
              "      <td>0.000000</td>\n",
              "      <td>0.000000</td>\n",
              "      <td>0.000000</td>\n",
              "      <td>0.000000</td>\n",
              "      <td>0.000000</td>\n",
              "      <td>0.000000</td>\n",
              "      <td>0.000000</td>\n",
              "      <td>0.000000</td>\n",
              "      <td>13.0</td>\n",
              "      <td>-2.637502</td>\n",
              "      <td>-3.939376</td>\n",
              "      <td>-0.008252</td>\n",
              "    </tr>\n",
              "    <tr>\n",
              "      <th>1</th>\n",
              "      <td>0.000000</td>\n",
              "      <td>0.000000</td>\n",
              "      <td>0.000000</td>\n",
              "      <td>56.560903</td>\n",
              "      <td>1.665060</td>\n",
              "      <td>0.005998</td>\n",
              "      <td>0.009748</td>\n",
              "      <td>0.000169</td>\n",
              "      <td>0.156712</td>\n",
              "      <td>-0.008471</td>\n",
              "      <td>-0.000685</td>\n",
              "      <td>44.0</td>\n",
              "      <td>0.000000</td>\n",
              "      <td>0.000000</td>\n",
              "      <td>0.000000</td>\n",
              "    </tr>\n",
              "    <tr>\n",
              "      <th>3</th>\n",
              "      <td>-0.045984</td>\n",
              "      <td>3.817424</td>\n",
              "      <td>-0.004679</td>\n",
              "      <td>48.110110</td>\n",
              "      <td>-0.974022</td>\n",
              "      <td>-2.112336</td>\n",
              "      <td>-6.274364</td>\n",
              "      <td>0.114613</td>\n",
              "      <td>22.945292</td>\n",
              "      <td>-33.648401</td>\n",
              "      <td>-0.965865</td>\n",
              "      <td>49.0</td>\n",
              "      <td>-0.044002</td>\n",
              "      <td>3.897783</td>\n",
              "      <td>0.001572</td>\n",
              "    </tr>\n",
              "    <tr>\n",
              "      <th>3</th>\n",
              "      <td>-0.040740</td>\n",
              "      <td>3.441107</td>\n",
              "      <td>-0.009286</td>\n",
              "      <td>39.744171</td>\n",
              "      <td>-1.368074</td>\n",
              "      <td>0.121103</td>\n",
              "      <td>-7.792886</td>\n",
              "      <td>0.030393</td>\n",
              "      <td>-0.003508</td>\n",
              "      <td>0.076732</td>\n",
              "      <td>-0.128763</td>\n",
              "      <td>51.0</td>\n",
              "      <td>-0.042740</td>\n",
              "      <td>3.550774</td>\n",
              "      <td>-0.012964</td>\n",
              "    </tr>\n",
              "    <tr>\n",
              "      <th>8</th>\n",
              "      <td>0.105600</td>\n",
              "      <td>0.491104</td>\n",
              "      <td>0.008724</td>\n",
              "      <td>0.000000</td>\n",
              "      <td>0.000000</td>\n",
              "      <td>0.000000</td>\n",
              "      <td>0.000000</td>\n",
              "      <td>0.000000</td>\n",
              "      <td>0.000000</td>\n",
              "      <td>0.000000</td>\n",
              "      <td>0.000000</td>\n",
              "      <td>43.0</td>\n",
              "      <td>0.098556</td>\n",
              "      <td>0.476328</td>\n",
              "      <td>-0.003605</td>\n",
              "    </tr>\n",
              "  </tbody>\n",
              "</table>\n",
              "</div>"
            ],
            "text/plain": [
              "          vx        vy        vz  ...  vx_lag_2  vy_lag_2  vz_lag_2\n",
              "id                                ...                              \n",
              "2  -2.618572 -3.919568 -0.006162  ... -2.637502 -3.939376 -0.008252\n",
              "1   0.000000  0.000000  0.000000  ...  0.000000  0.000000  0.000000\n",
              "3  -0.045984  3.817424 -0.004679  ... -0.044002  3.897783  0.001572\n",
              "3  -0.040740  3.441107 -0.009286  ... -0.042740  3.550774 -0.012964\n",
              "8   0.105600  0.491104  0.008724  ...  0.098556  0.476328 -0.003605\n",
              "\n",
              "[5 rows x 15 columns]"
            ]
          },
          "metadata": {
            "tags": []
          },
          "execution_count": 185
        }
      ]
    },
    {
      "cell_type": "code",
      "metadata": {
        "id": "paPBpQsx5opV",
        "colab_type": "code",
        "outputId": "070d8063-e9a2-43e0-b227-893cce3c9884",
        "colab": {
          "base_uri": "https://localhost:8080/",
          "height": 235
        }
      },
      "source": [
        "#X\n",
        "X_train_ax.head()\n",
        "s_scaler = RobustScaler()\n",
        "X_train_ax = pd.DataFrame(s_scaler.fit_transform(X_train_ax), \n",
        "                          index=X_train_ax.index, \n",
        "                          columns=X_train_ax.columns)\n",
        "X_test_ax = pd.DataFrame(s_scaler.fit_transform(X_test_ax), \n",
        "                          index=X_test_ax.index, \n",
        "                          columns=X_test_ax.columns)\n",
        "#Y\n",
        "X_train_ax.head()\n",
        "X_test_ax.head()\n",
        "\n",
        "X_train_az.head()\n",
        "s_scaler = RobustScaler()\n",
        "X_train_az = pd.DataFrame(s_scaler.fit_transform(X_train_az), \n",
        "                          index=X_train_az.index, \n",
        "                          columns=X_train_az.columns)\n",
        "X_test_az = pd.DataFrame(s_scaler.fit_transform(X_test_az), \n",
        "                          index=X_test_az.index, \n",
        "                          columns=X_test_az.columns)\n",
        "#Z\n",
        "X_train_az.head()\n",
        "X_test_az.head()\n",
        "\n"
      ],
      "execution_count": 0,
      "outputs": [
        {
          "output_type": "execute_result",
          "data": {
            "text/html": [
              "<div>\n",
              "<style scoped>\n",
              "    .dataframe tbody tr th:only-of-type {\n",
              "        vertical-align: middle;\n",
              "    }\n",
              "\n",
              "    .dataframe tbody tr th {\n",
              "        vertical-align: top;\n",
              "    }\n",
              "\n",
              "    .dataframe thead th {\n",
              "        text-align: right;\n",
              "    }\n",
              "</style>\n",
              "<table border=\"1\" class=\"dataframe\">\n",
              "  <thead>\n",
              "    <tr style=\"text-align: right;\">\n",
              "      <th></th>\n",
              "      <th>vx</th>\n",
              "      <th>vy</th>\n",
              "      <th>vz</th>\n",
              "      <th>dx</th>\n",
              "      <th>dy</th>\n",
              "      <th>vfx</th>\n",
              "      <th>vfy</th>\n",
              "      <th>vfz</th>\n",
              "      <th>afx</th>\n",
              "      <th>afy</th>\n",
              "      <th>afz</th>\n",
              "      <th>num_v_labels</th>\n",
              "      <th>vx_lag_2</th>\n",
              "      <th>vy_lag_2</th>\n",
              "      <th>vz_lag_2</th>\n",
              "    </tr>\n",
              "    <tr>\n",
              "      <th>id</th>\n",
              "      <th></th>\n",
              "      <th></th>\n",
              "      <th></th>\n",
              "      <th></th>\n",
              "      <th></th>\n",
              "      <th></th>\n",
              "      <th></th>\n",
              "      <th></th>\n",
              "      <th></th>\n",
              "      <th></th>\n",
              "      <th></th>\n",
              "      <th></th>\n",
              "      <th></th>\n",
              "      <th></th>\n",
              "      <th></th>\n",
              "    </tr>\n",
              "  </thead>\n",
              "  <tbody>\n",
              "    <tr>\n",
              "      <th>2</th>\n",
              "      <td>-0.978468</td>\n",
              "      <td>-0.984996</td>\n",
              "      <td>-0.038509</td>\n",
              "      <td>0.000000</td>\n",
              "      <td>0.000000</td>\n",
              "      <td>0.000000</td>\n",
              "      <td>0.000000</td>\n",
              "      <td>0.000000e+00</td>\n",
              "      <td>0.000000</td>\n",
              "      <td>0.000000</td>\n",
              "      <td>0.000000</td>\n",
              "      <td>-0.060606</td>\n",
              "      <td>-0.948869</td>\n",
              "      <td>-0.981839</td>\n",
              "      <td>-0.080954</td>\n",
              "    </tr>\n",
              "    <tr>\n",
              "      <th>1</th>\n",
              "      <td>0.056698</td>\n",
              "      <td>0.000000</td>\n",
              "      <td>0.135223</td>\n",
              "      <td>2.444050</td>\n",
              "      <td>1.665060</td>\n",
              "      <td>0.005998</td>\n",
              "      <td>0.009748</td>\n",
              "      <td>3.096393e+11</td>\n",
              "      <td>0.156712</td>\n",
              "      <td>-0.008471</td>\n",
              "      <td>-0.000685</td>\n",
              "      <td>0.878788</td>\n",
              "      <td>0.058133</td>\n",
              "      <td>0.000000</td>\n",
              "      <td>0.125946</td>\n",
              "    </tr>\n",
              "    <tr>\n",
              "      <th>3</th>\n",
              "      <td>0.038520</td>\n",
              "      <td>0.959327</td>\n",
              "      <td>0.003322</td>\n",
              "      <td>2.078883</td>\n",
              "      <td>-0.974022</td>\n",
              "      <td>-2.112336</td>\n",
              "      <td>-6.274364</td>\n",
              "      <td>2.103073e+14</td>\n",
              "      <td>22.945292</td>\n",
              "      <td>-33.648401</td>\n",
              "      <td>-0.965865</td>\n",
              "      <td>1.030303</td>\n",
              "      <td>0.041333</td>\n",
              "      <td>0.971472</td>\n",
              "      <td>0.165360</td>\n",
              "    </tr>\n",
              "    <tr>\n",
              "      <th>3</th>\n",
              "      <td>0.040593</td>\n",
              "      <td>0.864758</td>\n",
              "      <td>-0.126581</td>\n",
              "      <td>1.717383</td>\n",
              "      <td>-1.368074</td>\n",
              "      <td>0.121103</td>\n",
              "      <td>-7.792886</td>\n",
              "      <td>5.576922e+13</td>\n",
              "      <td>-0.003508</td>\n",
              "      <td>0.076732</td>\n",
              "      <td>-0.128763</td>\n",
              "      <td>1.090909</td>\n",
              "      <td>0.041815</td>\n",
              "      <td>0.884985</td>\n",
              "      <td>-0.199100</td>\n",
              "    </tr>\n",
              "    <tr>\n",
              "      <th>8</th>\n",
              "      <td>0.098444</td>\n",
              "      <td>0.123415</td>\n",
              "      <td>0.381184</td>\n",
              "      <td>0.000000</td>\n",
              "      <td>0.000000</td>\n",
              "      <td>0.000000</td>\n",
              "      <td>0.000000</td>\n",
              "      <td>0.000000e+00</td>\n",
              "      <td>0.000000</td>\n",
              "      <td>0.000000</td>\n",
              "      <td>0.000000</td>\n",
              "      <td>0.848485</td>\n",
              "      <td>0.095762</td>\n",
              "      <td>0.118719</td>\n",
              "      <td>0.035565</td>\n",
              "    </tr>\n",
              "  </tbody>\n",
              "</table>\n",
              "</div>"
            ],
            "text/plain": [
              "          vx        vy        vz  ...  vx_lag_2  vy_lag_2  vz_lag_2\n",
              "id                                ...                              \n",
              "2  -0.978468 -0.984996 -0.038509  ... -0.948869 -0.981839 -0.080954\n",
              "1   0.056698  0.000000  0.135223  ...  0.058133  0.000000  0.125946\n",
              "3   0.038520  0.959327  0.003322  ...  0.041333  0.971472  0.165360\n",
              "3   0.040593  0.864758 -0.126581  ...  0.041815  0.884985 -0.199100\n",
              "8   0.098444  0.123415  0.381184  ...  0.095762  0.118719  0.035565\n",
              "\n",
              "[5 rows x 15 columns]"
            ]
          },
          "metadata": {
            "tags": []
          },
          "execution_count": 186
        }
      ]
    },
    {
      "cell_type": "code",
      "metadata": {
        "id": "69wQ5fk0JC0p",
        "colab_type": "code",
        "outputId": "06c665af-9615-4895-f1dd-a30420b1c65a",
        "colab": {
          "base_uri": "https://localhost:8080/",
          "height": 235
        }
      },
      "source": [
        ""
      ],
      "execution_count": 0,
      "outputs": [
        {
          "output_type": "execute_result",
          "data": {
            "text/html": [
              "<div>\n",
              "<style scoped>\n",
              "    .dataframe tbody tr th:only-of-type {\n",
              "        vertical-align: middle;\n",
              "    }\n",
              "\n",
              "    .dataframe tbody tr th {\n",
              "        vertical-align: top;\n",
              "    }\n",
              "\n",
              "    .dataframe thead th {\n",
              "        text-align: right;\n",
              "    }\n",
              "</style>\n",
              "<table border=\"1\" class=\"dataframe\">\n",
              "  <thead>\n",
              "    <tr style=\"text-align: right;\">\n",
              "      <th></th>\n",
              "      <th>vx</th>\n",
              "      <th>vy</th>\n",
              "      <th>vz</th>\n",
              "      <th>dx</th>\n",
              "      <th>dy</th>\n",
              "      <th>vfx</th>\n",
              "      <th>vfy</th>\n",
              "      <th>vfz</th>\n",
              "      <th>afx</th>\n",
              "      <th>afy</th>\n",
              "      <th>afz</th>\n",
              "      <th>num_v_labels</th>\n",
              "      <th>vx_lag_2</th>\n",
              "      <th>vy_lag_2</th>\n",
              "      <th>vz_lag_2</th>\n",
              "    </tr>\n",
              "    <tr>\n",
              "      <th>id</th>\n",
              "      <th></th>\n",
              "      <th></th>\n",
              "      <th></th>\n",
              "      <th></th>\n",
              "      <th></th>\n",
              "      <th></th>\n",
              "      <th></th>\n",
              "      <th></th>\n",
              "      <th></th>\n",
              "      <th></th>\n",
              "      <th></th>\n",
              "      <th></th>\n",
              "      <th></th>\n",
              "      <th></th>\n",
              "      <th></th>\n",
              "    </tr>\n",
              "  </thead>\n",
              "  <tbody>\n",
              "    <tr>\n",
              "      <th>332</th>\n",
              "      <td>0.000000</td>\n",
              "      <td>0.000000</td>\n",
              "      <td>0.000000</td>\n",
              "      <td>0.160374</td>\n",
              "      <td>16.998677</td>\n",
              "      <td>8.263371e-11</td>\n",
              "      <td>1.393209e-01</td>\n",
              "      <td>-1.204872e-01</td>\n",
              "      <td>0.000000</td>\n",
              "      <td>0.00000</td>\n",
              "      <td>0.000000</td>\n",
              "      <td>-0.423077</td>\n",
              "      <td>0.000000</td>\n",
              "      <td>0.000000</td>\n",
              "      <td>0.000000</td>\n",
              "    </tr>\n",
              "    <tr>\n",
              "      <th>54</th>\n",
              "      <td>-0.920489</td>\n",
              "      <td>-1.951798</td>\n",
              "      <td>-0.402119</td>\n",
              "      <td>-0.315454</td>\n",
              "      <td>0.000000</td>\n",
              "      <td>0.000000e+00</td>\n",
              "      <td>0.000000e+00</td>\n",
              "      <td>0.000000e+00</td>\n",
              "      <td>0.000000</td>\n",
              "      <td>0.00000</td>\n",
              "      <td>0.000000</td>\n",
              "      <td>-0.961538</td>\n",
              "      <td>-0.894475</td>\n",
              "      <td>-1.917777</td>\n",
              "      <td>-0.501284</td>\n",
              "    </tr>\n",
              "    <tr>\n",
              "      <th>696</th>\n",
              "      <td>1.589820</td>\n",
              "      <td>-0.980008</td>\n",
              "      <td>-0.327045</td>\n",
              "      <td>-0.315454</td>\n",
              "      <td>0.000000</td>\n",
              "      <td>0.000000e+00</td>\n",
              "      <td>0.000000e+00</td>\n",
              "      <td>0.000000e+00</td>\n",
              "      <td>0.000000</td>\n",
              "      <td>0.00000</td>\n",
              "      <td>0.000000</td>\n",
              "      <td>-0.769231</td>\n",
              "      <td>1.671113</td>\n",
              "      <td>-0.847054</td>\n",
              "      <td>-0.409396</td>\n",
              "    </tr>\n",
              "    <tr>\n",
              "      <th>483</th>\n",
              "      <td>-0.330436</td>\n",
              "      <td>-0.012068</td>\n",
              "      <td>0.061153</td>\n",
              "      <td>1.204107</td>\n",
              "      <td>-35.372407</td>\n",
              "      <td>7.491274e+02</td>\n",
              "      <td>7.509785e+10</td>\n",
              "      <td>-1.140106e+11</td>\n",
              "      <td>2.098405</td>\n",
              "      <td>-0.01089</td>\n",
              "      <td>0.030037</td>\n",
              "      <td>2.076923</td>\n",
              "      <td>-0.489374</td>\n",
              "      <td>-0.006113</td>\n",
              "      <td>0.169325</td>\n",
              "    </tr>\n",
              "    <tr>\n",
              "      <th>739</th>\n",
              "      <td>0.225396</td>\n",
              "      <td>0.018583</td>\n",
              "      <td>-0.169564</td>\n",
              "      <td>-0.315454</td>\n",
              "      <td>0.000000</td>\n",
              "      <td>0.000000e+00</td>\n",
              "      <td>0.000000e+00</td>\n",
              "      <td>0.000000e+00</td>\n",
              "      <td>0.000000</td>\n",
              "      <td>0.00000</td>\n",
              "      <td>0.000000</td>\n",
              "      <td>0.269231</td>\n",
              "      <td>0.284462</td>\n",
              "      <td>0.027023</td>\n",
              "      <td>-0.208417</td>\n",
              "    </tr>\n",
              "  </tbody>\n",
              "</table>\n",
              "</div>"
            ],
            "text/plain": [
              "           vx        vy        vz  ...  vx_lag_2  vy_lag_2  vz_lag_2\n",
              "id                                 ...                              \n",
              "332  0.000000  0.000000  0.000000  ...  0.000000  0.000000  0.000000\n",
              "54  -0.920489 -1.951798 -0.402119  ... -0.894475 -1.917777 -0.501284\n",
              "696  1.589820 -0.980008 -0.327045  ...  1.671113 -0.847054 -0.409396\n",
              "483 -0.330436 -0.012068  0.061153  ... -0.489374 -0.006113  0.169325\n",
              "739  0.225396  0.018583 -0.169564  ...  0.284462  0.027023 -0.208417\n",
              "\n",
              "[5 rows x 15 columns]"
            ]
          },
          "metadata": {
            "tags": []
          },
          "execution_count": 97
        }
      ]
    },
    {
      "cell_type": "code",
      "metadata": {
        "id": "9ec9bpKuSKCe",
        "colab_type": "code",
        "outputId": "c5569753-0720-4794-b77f-a82a1f063da2",
        "colab": {
          "base_uri": "https://localhost:8080/",
          "height": 187
        }
      },
      "source": [
        "# GPU\n",
        "model_XGB_ax_regressor = xgboost.XGBRegressor(\n",
        "        gamma=0.05,learning_rate=0.05, max_depth=3,\n",
        "        n_estimators=2500,reg_alpha=0.5, reg_lambda=0.85, \n",
        "        tree_method='gpu_hist', gpu_id=0)\n",
        "\n",
        "# CPU\n",
        "\n",
        "#X\n",
        "model_XGB_ax_regressor = xgboost.XGBRegressor(\n",
        "        gamma=0.05,learning_rate=0.05, max_depth=3,\n",
        "        n_estimators=2500,reg_alpha=0.5, reg_lambda=0.85)\n",
        "\n",
        "model_XGB_ax_regressor.fit(X_train_ax, y_train_ax,\n",
        "        eval_set=[(X_train_ax, y_train_ax), (X_test_ax, y_test_ax)],\n",
        "        early_stopping_rounds=50, verbose=False)\n",
        "\n",
        "\n",
        "#Y\n",
        "model_XGB_ay_regressor = xgboost.XGBRegressor(\n",
        "        gamma=0.05,learning_rate=0.05, max_depth=3,\n",
        "        n_estimators=2500,reg_alpha=0.5, reg_lambda=0.85)\n",
        "\n",
        "model_XGB_ay_regressor.fit(X_train_ay, y_train_ay,\n",
        "        eval_set=[(X_train_ay, y_train_ay), (X_test_ay, y_test_ay)],\n",
        "        early_stopping_rounds=50, verbose=False)\n",
        "\n",
        "#Z\n",
        "model_XGB_az_regressor = xgboost.XGBRegressor(\n",
        "        gamma=0.05,learning_rate=0.05, max_depth=3,\n",
        "        n_estimators=2500,reg_alpha=0.5, reg_lambda=0.85)\n",
        "\n",
        "model_XGB_az_regressor.fit(X_train_az, y_train_az,\n",
        "         eval_set=[(X_train_az, y_train_az), (X_test_az, y_test_az)],\n",
        "        early_stopping_rounds=50, verbose=False)"
      ],
      "execution_count": 0,
      "outputs": [
        {
          "output_type": "stream",
          "text": [
            "[20:10:08] WARNING: /workspace/src/objective/regression_obj.cu:152: reg:linear is now deprecated in favor of reg:squarederror.\n",
            "[20:10:09] WARNING: /workspace/src/objective/regression_obj.cu:152: reg:linear is now deprecated in favor of reg:squarederror.\n",
            "[20:10:09] WARNING: /workspace/src/objective/regression_obj.cu:152: reg:linear is now deprecated in favor of reg:squarederror.\n"
          ],
          "name": "stdout"
        },
        {
          "output_type": "execute_result",
          "data": {
            "text/plain": [
              "XGBRegressor(base_score=0.5, booster='gbtree', colsample_bylevel=1,\n",
              "             colsample_bynode=1, colsample_bytree=1, gamma=0.05,\n",
              "             importance_type='gain', learning_rate=0.05, max_delta_step=0,\n",
              "             max_depth=3, min_child_weight=1, missing=None, n_estimators=2500,\n",
              "             n_jobs=1, nthread=None, objective='reg:linear', random_state=0,\n",
              "             reg_alpha=0.5, reg_lambda=0.85, scale_pos_weight=1, seed=None,\n",
              "             silent=None, subsample=1, verbosity=1)"
            ]
          },
          "metadata": {
            "tags": []
          },
          "execution_count": 188
        }
      ]
    },
    {
      "cell_type": "code",
      "metadata": {
        "id": "hldmlkq-c3g2",
        "colab_type": "code",
        "outputId": "26b9c6de-81e6-4867-8ba2-b190f5257ea7",
        "colab": {
          "base_uri": "https://localhost:8080/",
          "height": 851
        }
      },
      "source": [
        "from xgboost import plot_importance\n",
        "\n",
        "_ = plot_importance(model_XGB_ax_regressor, height=0.9)\n",
        "\n",
        "\n",
        "from xgboost import plot_importance\n",
        "\n",
        "_ = plot_importance(model_XGB_ay_regressor, height=0.9)\n",
        "\n",
        "\n",
        "\n",
        "from xgboost import plot_importance\n",
        "\n",
        "_ = plot_importance(model_XGB_az_regressor, height=0.9)\n",
        "\n",
        "\n",
        "\n",
        "\n",
        "\n",
        "\n"
      ],
      "execution_count": 0,
      "outputs": [
        {
          "output_type": "display_data",
          "data": {
            "image/png": "[encoded data removed]",
            "text/plain": [
              "<Figure size 432x288 with 1 Axes>"
            ]
          },
          "metadata": {
            "tags": []
          }
        },
        {
          "output_type": "display_data",
          "data": {
            "image/png": "[encoded data removed]",
            "text/plain": [
              "<Figure size 432x288 with 1 Axes>"
            ]
          },
          "metadata": {
            "tags": []
          }
        },
        {
          "output_type": "display_data",
          "data": {
            "image/png": "[encoded data removed]",
            "text/plain": [
              "<Figure size 432x288 with 1 Axes>"
            ]
          },
          "metadata": {
            "tags": []
          }
        }
      ]
    },
    {
      "cell_type": "code",
      "metadata": {
        "id": "K8wbypmK8Qua",
        "colab_type": "code",
        "outputId": "e1589a39-2fc4-4a3c-c09b-a3b0a23e925e",
        "colab": {
          "base_uri": "https://localhost:8080/",
          "height": 295
        }
      },
      "source": [
        ""
      ],
      "execution_count": 0,
      "outputs": [
        {
          "output_type": "display_data",
          "data": {
            "image/png": "[encoded data removed]",
            "text/plain": [
              "<Figure size 432x288 with 1 Axes>"
            ]
          },
          "metadata": {
            "tags": []
          }
        }
      ]
    },
    {
      "cell_type": "code",
      "metadata": {
        "id": "vYS3GbqMJjXY",
        "colab_type": "code",
        "outputId": "c529dc04-0096-4f87-9252-cfc448866a39",
        "colab": {
          "base_uri": "https://localhost:8080/",
          "height": 295
        }
      },
      "source": [
        ""
      ],
      "execution_count": 0,
      "outputs": [
        {
          "output_type": "display_data",
          "data": {
            "image/png": "[encoded data removed]",
            "text/plain": [
              "<Figure size 432x288 with 1 Axes>"
            ]
          },
          "metadata": {
            "tags": []
          }
        }
      ]
    },
    {
      "cell_type": "code",
      "metadata": {
        "id": "T6b2nBDzc687",
        "colab_type": "code",
        "outputId": "00eb7609-e681-4c50-934a-2434403e6e81",
        "colab": {
          "base_uri": "https://localhost:8080/",
          "height": 119
        }
      },
      "source": [
        "\n",
        "#X\n",
        "model_name = \"baseline\"\n",
        "yx_label = \"ax\"\n",
        "\n",
        "print(\"Predicting {} on test data..\".format(model_name))\n",
        "pred_Yx = model_XGB_ax_regressor.predict(X_test)\n",
        "print(\"MAE of {} for {} is {}\".format(model_name, yx_label, mean_absolute_error(pred_Y, Y_test_ax)))\n",
        "\n",
        "\n",
        "#Y\n",
        "model_name = \"baseline\"\n",
        "yy_label = \"ay\"\n",
        "\n",
        "print(\"Predicting {} on test data..\".format(model_name))\n",
        "pred_Yy = model_XGB_ay_regressor.predict(X_test)\n",
        "print(\"MAE of {} for {} is {}\".format(model_name, yy_label, mean_absolute_error(pred_Yy, Y_test_ay)))\n",
        "\n",
        "\n",
        "#Z\n",
        "model_name = \"baseline\"\n",
        "yz_label = \"az\"\n",
        "\n",
        "print(\"Predicting {} on test data..\".format(model_name))\n",
        "pred_Yz = model_XGB_az_regressor.predict(X_test)\n",
        "print(\"MAE of {} for {} is {}\".format(model_name, yz_label, mean_absolute_error(pred_Yz, Y_test_az)))\n",
        "\n",
        "\n"
      ],
      "execution_count": 0,
      "outputs": [
        {
          "output_type": "stream",
          "text": [
            "Predicting baseline on test data..\n",
            "MAE of baseline for ax is 1.0935959478322088\n",
            "Predicting baseline on test data..\n",
            "MAE of baseline for ay is 0.40743697418431707\n",
            "Predicting baseline on test data..\n",
            "MAE of baseline for az is 0.08138346108315761\n"
          ],
          "name": "stdout"
        }
      ]
    },
    {
      "cell_type": "code",
      "metadata": {
        "id": "hr4NmRWYUiXP",
        "colab_type": "code",
        "outputId": "b28e6d56-2e1b-4726-ee09-ba3097545524",
        "colab": {
          "base_uri": "https://localhost:8080/",
          "height": 51
        }
      },
      "source": [
        ""
      ],
      "execution_count": 0,
      "outputs": [
        {
          "output_type": "stream",
          "text": [
            "Predicting baseline on test data..\n",
            "MAE of baseline for ay is 0.3697459076832314\n"
          ],
          "name": "stdout"
        }
      ]
    },
    {
      "cell_type": "code",
      "metadata": {
        "id": "R-6PIkP9JlRA",
        "colab_type": "code",
        "outputId": "2c571e85-9e5e-41c4-ea63-a1109387508b",
        "colab": {
          "base_uri": "https://localhost:8080/",
          "height": 51
        }
      },
      "source": [
        ""
      ],
      "execution_count": 0,
      "outputs": [
        {
          "output_type": "stream",
          "text": [
            "Predicting baseline on test data..\n",
            "MAE of baseline for az is 0.14697226609439867\n"
          ],
          "name": "stdout"
        }
      ]
    },
    {
      "cell_type": "code",
      "metadata": {
        "id": "Y05dyAmqc-mO",
        "colab_type": "code",
        "colab": {}
      },
      "source": [
        "test['pred_ax'] = pred_Yx #ax prediction\n",
        "\n",
        "test['pred_ay'] = pred_Yy #ay prediction\n",
        "\n",
        "test['pred_az'] = pred_Yz #az prediction"
      ],
      "execution_count": 0,
      "outputs": []
    },
    {
      "cell_type": "code",
      "metadata": {
        "id": "XdQtWCS8dBGw",
        "colab_type": "code",
        "outputId": "9481b8dc-1392-4ee0-b9e4-e968aec6aa12",
        "colab": {
          "base_uri": "https://localhost:8080/",
          "height": 356
        }
      },
      "source": [
        "import matplotlib.pyplot as plt\n",
        "\n",
        "sub_test = test.loc[0]\n",
        "\n",
        "sub_test = sub_test.reset_index()\n",
        "\n",
        "# Plot the forecast with the actuals\n",
        "f, ax = plt.subplots(1)\n",
        "\n",
        "f.set_figheight(5)\n",
        "f.set_figwidth(15)\n",
        "_ = sub_test[['ax', 'pred_ax']].plot(ax=ax, style=['-','.'])\n",
        "plot = plt.suptitle(\"Baseline lag:['vx', 'vy', 'vz'] prev_n = 1 test_sampe #100\")"
      ],
      "execution_count": 0,
      "outputs": [
        {
          "output_type": "display_data",
          "data": {
            "image/png": "[encoded data removed]",
            "text/plain": [
              "<Figure size 1080x360 with 1 Axes>"
            ]
          },
          "metadata": {
            "tags": []
          }
        }
      ]
    },
    {
      "cell_type": "code",
      "metadata": {
        "id": "aBTGthT38tqZ",
        "colab_type": "code",
        "outputId": "1caff0b7-eb4a-478f-9a93-a29b5b3b3042",
        "colab": {
          "base_uri": "https://localhost:8080/",
          "height": 356
        }
      },
      "source": [
        "import matplotlib.pyplot as plt\n",
        "\n",
        "sub_test = test.loc[0]\n",
        "\n",
        "sub_test = sub_test.reset_index()\n",
        "\n",
        "# Plot the forecast with the actuals\n",
        "f, ax = plt.subplots(1)\n",
        "\n",
        "f.set_figheight(5)\n",
        "f.set_figwidth(15)\n",
        "_ = sub_test[['ay', 'pred_ay']].plot(ax=ax, style=['-','.'])\n",
        "plot = plt.suptitle(\"Baseline lag:['vx', 'vy', 'vz'] prev_n = 1 test_sampe #0\")"
      ],
      "execution_count": 0,
      "outputs": [
        {
          "output_type": "display_data",
          "data": {
            "image/png": "[encoded data removed]",
            "text/plain": [
              "<Figure size 1080x360 with 1 Axes>"
            ]
          },
          "metadata": {
            "tags": []
          }
        }
      ]
    },
    {
      "cell_type": "code",
      "metadata": {
        "id": "ZpoOhCoUdEO7",
        "colab_type": "code",
        "outputId": "ca75febd-5e35-40ea-8f09-d866c0ed139f",
        "colab": {
          "base_uri": "https://localhost:8080/",
          "height": 356
        }
      },
      "source": [
        "import matplotlib.pyplot as plt\n",
        "\n",
        "sub_test = test.loc[0]\n",
        "\n",
        "sub_test = sub_test.reset_index()\n",
        "\n",
        "# Plot the forecast with the actuals\n",
        "f, ax = plt.subplots(1)\n",
        "\n",
        "f.set_figheight(5)\n",
        "f.set_figwidth(15)\n",
        "_ = sub_test[['az', 'pred_az']].plot(ax=ax, style=['-','.'])\n",
        "plot = plt.suptitle(\"Baseline lag:['vx', 'vy', 'vz'] prev_n = 1 test_sampe #0\")\n",
        "\n"
      ],
      "execution_count": 0,
      "outputs": [
        {
          "output_type": "display_data",
          "data": {
            "image/png": "[encoded data removed]",
            "text/plain": [
              "<Figure size 1080x360 with 1 Axes>"
            ]
          },
          "metadata": {
            "tags": []
          }
        }
      ]
    },
    {
      "cell_type": "code",
      "metadata": {
        "id": "tO2MFCJUJs73",
        "colab_type": "code",
        "colab": {}
      },
      "source": [
        "import matplotlib.pyplot as plt\n",
        "\n",
        "sub_test = test.loc[0]\n",
        "\n",
        "sub_test = sub_test.reset_index()\n",
        "\n",
        "# Plot the forecast with the actuals\n",
        "f, ax = plt.subplots(1)\n",
        "\n",
        "f.set_figheight(5)\n",
        "f.set_figwidth(15)\n",
        "_ = sub_test[['az', 'pred_az']].plot(ax=ax, style=['-','.'])\n",
        "plot = plt.suptitle(\"Baseline lag:['vx', 'vy', 'vz'] prev_n = 1 test_sampe #0\")\n"
      ],
      "execution_count": 0,
      "outputs": []
    },
    {
      "cell_type": "code",
      "metadata": {
        "id": "pcoMf46xdHqq",
        "colab_type": "code",
        "colab": {}
      },
      "source": [
        "train.to_csv(r'training_large_vx_vy_vz_2.csv', index = None, header = True)\n",
        "test.to_csv(r'validation_large_vx_vy_vz_2.csv', index = None, header = True)"
      ],
      "execution_count": 0,
      "outputs": []
    },
    {
      "cell_type": "code",
      "metadata": {
        "id": "toRV7MIe5eDe",
        "colab_type": "code",
        "outputId": "6bc2beb7-4c2a-4540-d807-c2f09c997ad8",
        "colab": {
          "base_uri": "https://localhost:8080/",
          "height": 419
        }
      },
      "source": [
        "pd.read_csv('training_large_vx_vy_vz_2.csv')"
      ],
      "execution_count": 0,
      "outputs": [
        {
          "output_type": "execute_result",
          "data": {
            "text/html": [
              "<div>\n",
              "<style scoped>\n",
              "    .dataframe tbody tr th:only-of-type {\n",
              "        vertical-align: middle;\n",
              "    }\n",
              "\n",
              "    .dataframe tbody tr th {\n",
              "        vertical-align: top;\n",
              "    }\n",
              "\n",
              "    .dataframe thead th {\n",
              "        text-align: right;\n",
              "    }\n",
              "</style>\n",
              "<table border=\"1\" class=\"dataframe\">\n",
              "  <thead>\n",
              "    <tr style=\"text-align: right;\">\n",
              "      <th></th>\n",
              "      <th>vx</th>\n",
              "      <th>vy</th>\n",
              "      <th>vz</th>\n",
              "      <th>dx</th>\n",
              "      <th>dy</th>\n",
              "      <th>vfx</th>\n",
              "      <th>vfy</th>\n",
              "      <th>vfz</th>\n",
              "      <th>afx</th>\n",
              "      <th>afy</th>\n",
              "      <th>afz</th>\n",
              "      <th>num_v_labels</th>\n",
              "      <th>ax</th>\n",
              "      <th>ay</th>\n",
              "      <th>az</th>\n",
              "      <th>vx_lag_1</th>\n",
              "      <th>vx_lag_2</th>\n",
              "      <th>vy_lag_1</th>\n",
              "      <th>vy_lag_2</th>\n",
              "      <th>vz_lag_1</th>\n",
              "      <th>vz_lag_2</th>\n",
              "    </tr>\n",
              "  </thead>\n",
              "  <tbody>\n",
              "    <tr>\n",
              "      <th>0</th>\n",
              "      <td>-10.861781</td>\n",
              "      <td>-2.179386</td>\n",
              "      <td>-0.006538</td>\n",
              "      <td>0.0</td>\n",
              "      <td>0.0</td>\n",
              "      <td>0.0</td>\n",
              "      <td>0.0</td>\n",
              "      <td>0.0</td>\n",
              "      <td>0.0</td>\n",
              "      <td>0.0</td>\n",
              "      <td>0.0</td>\n",
              "      <td>8.0</td>\n",
              "      <td>-0.679845</td>\n",
              "      <td>0.268508</td>\n",
              "      <td>0.006225</td>\n",
              "      <td>-10.930109</td>\n",
              "      <td>-10.954589</td>\n",
              "      <td>-2.152400</td>\n",
              "      <td>-2.117917</td>\n",
              "      <td>-0.005913</td>\n",
              "      <td>0.012756</td>\n",
              "    </tr>\n",
              "    <tr>\n",
              "      <th>1</th>\n",
              "      <td>-10.822652</td>\n",
              "      <td>-2.210152</td>\n",
              "      <td>-0.011221</td>\n",
              "      <td>0.0</td>\n",
              "      <td>0.0</td>\n",
              "      <td>0.0</td>\n",
              "      <td>0.0</td>\n",
              "      <td>0.0</td>\n",
              "      <td>0.0</td>\n",
              "      <td>0.0</td>\n",
              "      <td>0.0</td>\n",
              "      <td>7.0</td>\n",
              "      <td>-0.389326</td>\n",
              "      <td>0.306114</td>\n",
              "      <td>0.046590</td>\n",
              "      <td>-10.861781</td>\n",
              "      <td>-10.930109</td>\n",
              "      <td>-2.179386</td>\n",
              "      <td>-2.152400</td>\n",
              "      <td>-0.006538</td>\n",
              "      <td>-0.005913</td>\n",
              "    </tr>\n",
              "    <tr>\n",
              "      <th>2</th>\n",
              "      <td>-10.776157</td>\n",
              "      <td>-2.238142</td>\n",
              "      <td>-0.011096</td>\n",
              "      <td>0.0</td>\n",
              "      <td>0.0</td>\n",
              "      <td>0.0</td>\n",
              "      <td>0.0</td>\n",
              "      <td>0.0</td>\n",
              "      <td>0.0</td>\n",
              "      <td>0.0</td>\n",
              "      <td>0.0</td>\n",
              "      <td>7.0</td>\n",
              "      <td>-0.462608</td>\n",
              "      <td>0.278494</td>\n",
              "      <td>-0.001239</td>\n",
              "      <td>-10.822652</td>\n",
              "      <td>-10.861781</td>\n",
              "      <td>-2.210152</td>\n",
              "      <td>-2.179386</td>\n",
              "      <td>-0.011221</td>\n",
              "      <td>-0.006538</td>\n",
              "    </tr>\n",
              "    <tr>\n",
              "      <th>3</th>\n",
              "      <td>-10.738884</td>\n",
              "      <td>-2.270775</td>\n",
              "      <td>-0.017484</td>\n",
              "      <td>0.0</td>\n",
              "      <td>0.0</td>\n",
              "      <td>0.0</td>\n",
              "      <td>0.0</td>\n",
              "      <td>0.0</td>\n",
              "      <td>0.0</td>\n",
              "      <td>0.0</td>\n",
              "      <td>0.0</td>\n",
              "      <td>7.0</td>\n",
              "      <td>-0.370861</td>\n",
              "      <td>0.324686</td>\n",
              "      <td>0.063559</td>\n",
              "      <td>-10.776157</td>\n",
              "      <td>-10.822652</td>\n",
              "      <td>-2.238142</td>\n",
              "      <td>-2.210152</td>\n",
              "      <td>-0.011096</td>\n",
              "      <td>-0.011221</td>\n",
              "    </tr>\n",
              "    <tr>\n",
              "      <th>4</th>\n",
              "      <td>-10.702093</td>\n",
              "      <td>-2.299289</td>\n",
              "      <td>-0.027242</td>\n",
              "      <td>0.0</td>\n",
              "      <td>0.0</td>\n",
              "      <td>0.0</td>\n",
              "      <td>0.0</td>\n",
              "      <td>0.0</td>\n",
              "      <td>0.0</td>\n",
              "      <td>0.0</td>\n",
              "      <td>0.0</td>\n",
              "      <td>7.0</td>\n",
              "      <td>-0.366060</td>\n",
              "      <td>0.283704</td>\n",
              "      <td>0.097093</td>\n",
              "      <td>-10.738884</td>\n",
              "      <td>-10.776157</td>\n",
              "      <td>-2.270775</td>\n",
              "      <td>-2.238142</td>\n",
              "      <td>-0.017484</td>\n",
              "      <td>-0.011096</td>\n",
              "    </tr>\n",
              "    <tr>\n",
              "      <th>...</th>\n",
              "      <td>...</td>\n",
              "      <td>...</td>\n",
              "      <td>...</td>\n",
              "      <td>...</td>\n",
              "      <td>...</td>\n",
              "      <td>...</td>\n",
              "      <td>...</td>\n",
              "      <td>...</td>\n",
              "      <td>...</td>\n",
              "      <td>...</td>\n",
              "      <td>...</td>\n",
              "      <td>...</td>\n",
              "      <td>...</td>\n",
              "      <td>...</td>\n",
              "      <td>...</td>\n",
              "      <td>...</td>\n",
              "      <td>...</td>\n",
              "      <td>...</td>\n",
              "      <td>...</td>\n",
              "      <td>...</td>\n",
              "      <td>...</td>\n",
              "    </tr>\n",
              "    <tr>\n",
              "      <th>156760</th>\n",
              "      <td>0.000000</td>\n",
              "      <td>0.000000</td>\n",
              "      <td>0.000000</td>\n",
              "      <td>0.0</td>\n",
              "      <td>0.0</td>\n",
              "      <td>0.0</td>\n",
              "      <td>0.0</td>\n",
              "      <td>0.0</td>\n",
              "      <td>0.0</td>\n",
              "      <td>0.0</td>\n",
              "      <td>0.0</td>\n",
              "      <td>55.0</td>\n",
              "      <td>0.000000</td>\n",
              "      <td>0.000000</td>\n",
              "      <td>0.000000</td>\n",
              "      <td>0.000000</td>\n",
              "      <td>0.000000</td>\n",
              "      <td>0.000000</td>\n",
              "      <td>0.000000</td>\n",
              "      <td>0.000000</td>\n",
              "      <td>0.000000</td>\n",
              "    </tr>\n",
              "    <tr>\n",
              "      <th>156761</th>\n",
              "      <td>0.000000</td>\n",
              "      <td>0.000000</td>\n",
              "      <td>0.000000</td>\n",
              "      <td>0.0</td>\n",
              "      <td>0.0</td>\n",
              "      <td>0.0</td>\n",
              "      <td>0.0</td>\n",
              "      <td>0.0</td>\n",
              "      <td>0.0</td>\n",
              "      <td>0.0</td>\n",
              "      <td>0.0</td>\n",
              "      <td>55.0</td>\n",
              "      <td>0.000000</td>\n",
              "      <td>0.000000</td>\n",
              "      <td>0.000000</td>\n",
              "      <td>0.000000</td>\n",
              "      <td>0.000000</td>\n",
              "      <td>0.000000</td>\n",
              "      <td>0.000000</td>\n",
              "      <td>0.000000</td>\n",
              "      <td>0.000000</td>\n",
              "    </tr>\n",
              "    <tr>\n",
              "      <th>156762</th>\n",
              "      <td>0.000000</td>\n",
              "      <td>0.000000</td>\n",
              "      <td>0.000000</td>\n",
              "      <td>0.0</td>\n",
              "      <td>0.0</td>\n",
              "      <td>0.0</td>\n",
              "      <td>0.0</td>\n",
              "      <td>0.0</td>\n",
              "      <td>0.0</td>\n",
              "      <td>0.0</td>\n",
              "      <td>0.0</td>\n",
              "      <td>55.0</td>\n",
              "      <td>0.000000</td>\n",
              "      <td>0.000000</td>\n",
              "      <td>0.000000</td>\n",
              "      <td>0.000000</td>\n",
              "      <td>0.000000</td>\n",
              "      <td>0.000000</td>\n",
              "      <td>0.000000</td>\n",
              "      <td>0.000000</td>\n",
              "      <td>0.000000</td>\n",
              "    </tr>\n",
              "    <tr>\n",
              "      <th>156763</th>\n",
              "      <td>0.000000</td>\n",
              "      <td>0.000000</td>\n",
              "      <td>0.000000</td>\n",
              "      <td>0.0</td>\n",
              "      <td>0.0</td>\n",
              "      <td>0.0</td>\n",
              "      <td>0.0</td>\n",
              "      <td>0.0</td>\n",
              "      <td>0.0</td>\n",
              "      <td>0.0</td>\n",
              "      <td>0.0</td>\n",
              "      <td>55.0</td>\n",
              "      <td>0.000000</td>\n",
              "      <td>0.000000</td>\n",
              "      <td>0.000000</td>\n",
              "      <td>0.000000</td>\n",
              "      <td>0.000000</td>\n",
              "      <td>0.000000</td>\n",
              "      <td>0.000000</td>\n",
              "      <td>0.000000</td>\n",
              "      <td>0.000000</td>\n",
              "    </tr>\n",
              "    <tr>\n",
              "      <th>156764</th>\n",
              "      <td>0.000000</td>\n",
              "      <td>0.000000</td>\n",
              "      <td>0.000000</td>\n",
              "      <td>0.0</td>\n",
              "      <td>0.0</td>\n",
              "      <td>0.0</td>\n",
              "      <td>0.0</td>\n",
              "      <td>0.0</td>\n",
              "      <td>0.0</td>\n",
              "      <td>0.0</td>\n",
              "      <td>0.0</td>\n",
              "      <td>55.0</td>\n",
              "      <td>0.000000</td>\n",
              "      <td>0.000000</td>\n",
              "      <td>0.000000</td>\n",
              "      <td>0.000000</td>\n",
              "      <td>0.000000</td>\n",
              "      <td>0.000000</td>\n",
              "      <td>0.000000</td>\n",
              "      <td>0.000000</td>\n",
              "      <td>0.000000</td>\n",
              "    </tr>\n",
              "  </tbody>\n",
              "</table>\n",
              "<p>156765 rows × 21 columns</p>\n",
              "</div>"
            ],
            "text/plain": [
              "               vx        vy        vz  ...  vy_lag_2  vz_lag_1  vz_lag_2\n",
              "0      -10.861781 -2.179386 -0.006538  ... -2.117917 -0.005913  0.012756\n",
              "1      -10.822652 -2.210152 -0.011221  ... -2.152400 -0.006538 -0.005913\n",
              "2      -10.776157 -2.238142 -0.011096  ... -2.179386 -0.011221 -0.006538\n",
              "3      -10.738884 -2.270775 -0.017484  ... -2.210152 -0.011096 -0.011221\n",
              "4      -10.702093 -2.299289 -0.027242  ... -2.238142 -0.017484 -0.011096\n",
              "...           ...       ...       ...  ...       ...       ...       ...\n",
              "156760   0.000000  0.000000  0.000000  ...  0.000000  0.000000  0.000000\n",
              "156761   0.000000  0.000000  0.000000  ...  0.000000  0.000000  0.000000\n",
              "156762   0.000000  0.000000  0.000000  ...  0.000000  0.000000  0.000000\n",
              "156763   0.000000  0.000000  0.000000  ...  0.000000  0.000000  0.000000\n",
              "156764   0.000000  0.000000  0.000000  ...  0.000000  0.000000  0.000000\n",
              "\n",
              "[156765 rows x 21 columns]"
            ]
          },
          "metadata": {
            "tags": []
          },
          "execution_count": 32
        }
      ]
    },
    {
      "cell_type": "code",
      "metadata": {
        "id": "GfcJxMgD6HCk",
        "colab_type": "code",
        "colab": {}
      },
      "source": [
        "train.to_csv(os.getcwd()+'/drive/My Drive/training_large_vx_vy_vz_2.csv', index = None, header = True)\n",
        "test.to_csv(os.getcwd()+'/drive/My Drive/validation_large_vx_vy_vz_2.csv', index = None, header = True)"
      ],
      "execution_count": 0,
      "outputs": []
    },
    {
      "cell_type": "code",
      "metadata": {
        "id": "IXnQUux20Qzg",
        "colab_type": "code",
        "outputId": "e42da8d4-c550-4bd9-c72c-5e4705ebbb34",
        "colab": {
          "base_uri": "https://localhost:8080/",
          "height": 439
        }
      },
      "source": [
        "pd.read_csv('validation_large_vx_vy_vz_2.csv')"
      ],
      "execution_count": 0,
      "outputs": [
        {
          "output_type": "execute_result",
          "data": {
            "text/html": [
              "<div>\n",
              "<style scoped>\n",
              "    .dataframe tbody tr th:only-of-type {\n",
              "        vertical-align: middle;\n",
              "    }\n",
              "\n",
              "    .dataframe tbody tr th {\n",
              "        vertical-align: top;\n",
              "    }\n",
              "\n",
              "    .dataframe thead th {\n",
              "        text-align: right;\n",
              "    }\n",
              "</style>\n",
              "<table border=\"1\" class=\"dataframe\">\n",
              "  <thead>\n",
              "    <tr style=\"text-align: right;\">\n",
              "      <th></th>\n",
              "      <th>vx</th>\n",
              "      <th>vy</th>\n",
              "      <th>vz</th>\n",
              "      <th>dx</th>\n",
              "      <th>dy</th>\n",
              "      <th>vfx</th>\n",
              "      <th>vfy</th>\n",
              "      <th>vfz</th>\n",
              "      <th>afx</th>\n",
              "      <th>afy</th>\n",
              "      <th>afz</th>\n",
              "      <th>num_v_labels</th>\n",
              "      <th>ax</th>\n",
              "      <th>ay</th>\n",
              "      <th>az</th>\n",
              "      <th>vx_lag_1</th>\n",
              "      <th>vx_lag_2</th>\n",
              "      <th>vy_lag_1</th>\n",
              "      <th>vy_lag_2</th>\n",
              "      <th>vz_lag_1</th>\n",
              "      <th>vz_lag_2</th>\n",
              "      <th>pred_ax</th>\n",
              "    </tr>\n",
              "  </thead>\n",
              "  <tbody>\n",
              "    <tr>\n",
              "      <th>0</th>\n",
              "      <td>-1.526878</td>\n",
              "      <td>-0.108901</td>\n",
              "      <td>-0.017838</td>\n",
              "      <td>19.787335</td>\n",
              "      <td>1.781145</td>\n",
              "      <td>1.513234</td>\n",
              "      <td>0.096556</td>\n",
              "      <td>0.017846</td>\n",
              "      <td>0.131049</td>\n",
              "      <td>-0.189679</td>\n",
              "      <td>-0.136688</td>\n",
              "      <td>27.0</td>\n",
              "      <td>-0.131177</td>\n",
              "      <td>0.189820</td>\n",
              "      <td>0.136591</td>\n",
              "      <td>-1.540062</td>\n",
              "      <td>-1.602124</td>\n",
              "      <td>-0.089823</td>\n",
              "      <td>-0.096249</td>\n",
              "      <td>-0.004110</td>\n",
              "      <td>-0.000290</td>\n",
              "      <td>-0.429615</td>\n",
              "    </tr>\n",
              "    <tr>\n",
              "      <th>1</th>\n",
              "      <td>-1.481712</td>\n",
              "      <td>-0.096803</td>\n",
              "      <td>-0.014761</td>\n",
              "      <td>19.638062</td>\n",
              "      <td>1.751421</td>\n",
              "      <td>1.468087</td>\n",
              "      <td>0.084437</td>\n",
              "      <td>0.014786</td>\n",
              "      <td>0.449209</td>\n",
              "      <td>0.120582</td>\n",
              "      <td>0.030447</td>\n",
              "      <td>27.0</td>\n",
              "      <td>-0.449395</td>\n",
              "      <td>-0.120376</td>\n",
              "      <td>-0.030618</td>\n",
              "      <td>-1.526878</td>\n",
              "      <td>-1.540062</td>\n",
              "      <td>-0.108901</td>\n",
              "      <td>-0.089823</td>\n",
              "      <td>-0.017838</td>\n",
              "      <td>-0.004110</td>\n",
              "      <td>-0.581069</td>\n",
              "    </tr>\n",
              "    <tr>\n",
              "      <th>2</th>\n",
              "      <td>-1.419567</td>\n",
              "      <td>-0.085859</td>\n",
              "      <td>-0.021610</td>\n",
              "      <td>19.492854</td>\n",
              "      <td>1.733913</td>\n",
              "      <td>1.405953</td>\n",
              "      <td>0.073481</td>\n",
              "      <td>0.021631</td>\n",
              "      <td>0.618209</td>\n",
              "      <td>0.109016</td>\n",
              "      <td>-0.068107</td>\n",
              "      <td>27.0</td>\n",
              "      <td>-0.618327</td>\n",
              "      <td>-0.108886</td>\n",
              "      <td>0.068148</td>\n",
              "      <td>-1.481712</td>\n",
              "      <td>-1.526878</td>\n",
              "      <td>-0.096803</td>\n",
              "      <td>-0.108901</td>\n",
              "      <td>-0.014761</td>\n",
              "      <td>-0.017838</td>\n",
              "      <td>-0.744962</td>\n",
              "    </tr>\n",
              "    <tr>\n",
              "      <th>3</th>\n",
              "      <td>-1.399296</td>\n",
              "      <td>-0.110872</td>\n",
              "      <td>-0.017601</td>\n",
              "      <td>19.351571</td>\n",
              "      <td>1.713411</td>\n",
              "      <td>1.385692</td>\n",
              "      <td>0.098483</td>\n",
              "      <td>0.017623</td>\n",
              "      <td>0.201597</td>\n",
              "      <td>-0.248766</td>\n",
              "      <td>0.039882</td>\n",
              "      <td>28.0</td>\n",
              "      <td>-0.201692</td>\n",
              "      <td>0.248871</td>\n",
              "      <td>-0.039894</td>\n",
              "      <td>-1.419567</td>\n",
              "      <td>-1.481712</td>\n",
              "      <td>-0.085859</td>\n",
              "      <td>-0.096803</td>\n",
              "      <td>-0.021610</td>\n",
              "      <td>-0.014761</td>\n",
              "      <td>-0.705824</td>\n",
              "    </tr>\n",
              "    <tr>\n",
              "      <th>4</th>\n",
              "      <td>-1.369596</td>\n",
              "      <td>-0.089351</td>\n",
              "      <td>-0.016559</td>\n",
              "      <td>19.215781</td>\n",
              "      <td>1.675868</td>\n",
              "      <td>1.356016</td>\n",
              "      <td>0.076936</td>\n",
              "      <td>0.016581</td>\n",
              "      <td>0.295266</td>\n",
              "      <td>0.214385</td>\n",
              "      <td>0.010370</td>\n",
              "      <td>28.0</td>\n",
              "      <td>-0.295503</td>\n",
              "      <td>-0.214125</td>\n",
              "      <td>-0.010365</td>\n",
              "      <td>-1.399296</td>\n",
              "      <td>-1.419567</td>\n",
              "      <td>-0.110872</td>\n",
              "      <td>-0.085859</td>\n",
              "      <td>-0.017601</td>\n",
              "      <td>-0.021610</td>\n",
              "      <td>-0.476441</td>\n",
              "    </tr>\n",
              "    <tr>\n",
              "      <th>...</th>\n",
              "      <td>...</td>\n",
              "      <td>...</td>\n",
              "      <td>...</td>\n",
              "      <td>...</td>\n",
              "      <td>...</td>\n",
              "      <td>...</td>\n",
              "      <td>...</td>\n",
              "      <td>...</td>\n",
              "      <td>...</td>\n",
              "      <td>...</td>\n",
              "      <td>...</td>\n",
              "      <td>...</td>\n",
              "      <td>...</td>\n",
              "      <td>...</td>\n",
              "      <td>...</td>\n",
              "      <td>...</td>\n",
              "      <td>...</td>\n",
              "      <td>...</td>\n",
              "      <td>...</td>\n",
              "      <td>...</td>\n",
              "      <td>...</td>\n",
              "      <td>...</td>\n",
              "    </tr>\n",
              "    <tr>\n",
              "      <th>29449</th>\n",
              "      <td>-1.923419</td>\n",
              "      <td>-0.322495</td>\n",
              "      <td>0.059048</td>\n",
              "      <td>69.012467</td>\n",
              "      <td>-0.094245</td>\n",
              "      <td>15.792535</td>\n",
              "      <td>4.888148</td>\n",
              "      <td>-0.398034</td>\n",
              "      <td>1.200423</td>\n",
              "      <td>0.300160</td>\n",
              "      <td>-0.103191</td>\n",
              "      <td>47.0</td>\n",
              "      <td>-0.323315</td>\n",
              "      <td>-0.014256</td>\n",
              "      <td>-0.029179</td>\n",
              "      <td>-1.955914</td>\n",
              "      <td>-1.993606</td>\n",
              "      <td>-0.323928</td>\n",
              "      <td>-0.336358</td>\n",
              "      <td>0.056116</td>\n",
              "      <td>0.060451</td>\n",
              "      <td>-1.003265</td>\n",
              "    </tr>\n",
              "    <tr>\n",
              "      <th>29450</th>\n",
              "      <td>-1.901652</td>\n",
              "      <td>-0.304682</td>\n",
              "      <td>0.057462</td>\n",
              "      <td>70.270082</td>\n",
              "      <td>-0.108454</td>\n",
              "      <td>15.681368</td>\n",
              "      <td>4.845589</td>\n",
              "      <td>-0.379893</td>\n",
              "      <td>1.106087</td>\n",
              "      <td>0.423457</td>\n",
              "      <td>-0.180500</td>\n",
              "      <td>47.0</td>\n",
              "      <td>-0.216583</td>\n",
              "      <td>-0.177239</td>\n",
              "      <td>0.015783</td>\n",
              "      <td>-1.923419</td>\n",
              "      <td>-1.955914</td>\n",
              "      <td>-0.322495</td>\n",
              "      <td>-0.323928</td>\n",
              "      <td>0.059048</td>\n",
              "      <td>0.056116</td>\n",
              "      <td>-0.790866</td>\n",
              "    </tr>\n",
              "    <tr>\n",
              "      <th>29451</th>\n",
              "      <td>-1.873572</td>\n",
              "      <td>-0.322392</td>\n",
              "      <td>0.070198</td>\n",
              "      <td>71.528363</td>\n",
              "      <td>-0.113085</td>\n",
              "      <td>15.565707</td>\n",
              "      <td>4.833287</td>\n",
              "      <td>-0.371563</td>\n",
              "      <td>1.150789</td>\n",
              "      <td>0.122396</td>\n",
              "      <td>-0.082885</td>\n",
              "      <td>47.0</td>\n",
              "      <td>-0.279390</td>\n",
              "      <td>0.176217</td>\n",
              "      <td>-0.126717</td>\n",
              "      <td>-1.901652</td>\n",
              "      <td>-1.923419</td>\n",
              "      <td>-0.304682</td>\n",
              "      <td>-0.322495</td>\n",
              "      <td>0.057462</td>\n",
              "      <td>0.059048</td>\n",
              "      <td>-0.685175</td>\n",
              "    </tr>\n",
              "    <tr>\n",
              "      <th>29452</th>\n",
              "      <td>-1.828015</td>\n",
              "      <td>-0.300837</td>\n",
              "      <td>0.075184</td>\n",
              "      <td>72.785854</td>\n",
              "      <td>-0.121559</td>\n",
              "      <td>15.432101</td>\n",
              "      <td>4.784423</td>\n",
              "      <td>-0.332834</td>\n",
              "      <td>1.329349</td>\n",
              "      <td>0.486191</td>\n",
              "      <td>-0.385343</td>\n",
              "      <td>48.0</td>\n",
              "      <td>-0.453277</td>\n",
              "      <td>-0.214471</td>\n",
              "      <td>-0.049615</td>\n",
              "      <td>-1.873572</td>\n",
              "      <td>-1.901652</td>\n",
              "      <td>-0.322392</td>\n",
              "      <td>-0.304682</td>\n",
              "      <td>0.070198</td>\n",
              "      <td>0.057462</td>\n",
              "      <td>-0.853309</td>\n",
              "    </tr>\n",
              "    <tr>\n",
              "      <th>29453</th>\n",
              "      <td>-1.788953</td>\n",
              "      <td>-0.313010</td>\n",
              "      <td>0.042482</td>\n",
              "      <td>74.052553</td>\n",
              "      <td>-0.149910</td>\n",
              "      <td>15.304492</td>\n",
              "      <td>4.769204</td>\n",
              "      <td>-0.280083</td>\n",
              "      <td>1.269683</td>\n",
              "      <td>0.151416</td>\n",
              "      <td>-0.524853</td>\n",
              "      <td>47.0</td>\n",
              "      <td>-0.388656</td>\n",
              "      <td>0.121119</td>\n",
              "      <td>0.325377</td>\n",
              "      <td>-1.828015</td>\n",
              "      <td>-1.873572</td>\n",
              "      <td>-0.300837</td>\n",
              "      <td>-0.322392</td>\n",
              "      <td>0.075184</td>\n",
              "      <td>0.070198</td>\n",
              "      <td>-0.931921</td>\n",
              "    </tr>\n",
              "  </tbody>\n",
              "</table>\n",
              "<p>29454 rows × 22 columns</p>\n",
              "</div>"
            ],
            "text/plain": [
              "             vx        vy        vz  ...  vz_lag_1  vz_lag_2   pred_ax\n",
              "0     -1.526878 -0.108901 -0.017838  ... -0.004110 -0.000290 -0.429615\n",
              "1     -1.481712 -0.096803 -0.014761  ... -0.017838 -0.004110 -0.581069\n",
              "2     -1.419567 -0.085859 -0.021610  ... -0.014761 -0.017838 -0.744962\n",
              "3     -1.399296 -0.110872 -0.017601  ... -0.021610 -0.014761 -0.705824\n",
              "4     -1.369596 -0.089351 -0.016559  ... -0.017601 -0.021610 -0.476441\n",
              "...         ...       ...       ...  ...       ...       ...       ...\n",
              "29449 -1.923419 -0.322495  0.059048  ...  0.056116  0.060451 -1.003265\n",
              "29450 -1.901652 -0.304682  0.057462  ...  0.059048  0.056116 -0.790866\n",
              "29451 -1.873572 -0.322392  0.070198  ...  0.057462  0.059048 -0.685175\n",
              "29452 -1.828015 -0.300837  0.075184  ...  0.070198  0.057462 -0.853309\n",
              "29453 -1.788953 -0.313010  0.042482  ...  0.075184  0.070198 -0.931921\n",
              "\n",
              "[29454 rows x 22 columns]"
            ]
          },
          "metadata": {
            "tags": []
          },
          "execution_count": 39
        }
      ]
    },
    {
      "cell_type": "markdown",
      "metadata": {
        "id": "jrWBurvY03BS",
        "colab_type": "text"
      },
      "source": [
        ""
      ]
    },
    {
      "cell_type": "code",
      "metadata": {
        "id": "zpjmjh4s6gGi",
        "colab_type": "code",
        "outputId": "1d9bc15c-97a9-4431-8818-1d4fea21daf0",
        "colab": {
          "base_uri": "https://localhost:8080/",
          "height": 34
        }
      },
      "source": [
        "print(os.getcwd()+'/drive/My Drive/training_large_vx_vy_vz_2.csv')"
      ],
      "execution_count": 0,
      "outputs": [
        {
          "output_type": "stream",
          "text": [
            "/content/drive/My Drive/training_large_vx_vy_vz_2.csv\n"
          ],
          "name": "stdout"
        }
      ]
    },
    {
      "cell_type": "code",
      "metadata": {
        "id": "DRsooDNPxkoX",
        "colab_type": "code",
        "outputId": "85f190be-4487-46f0-cfcc-6df490a0050d",
        "colab": {
          "base_uri": "https://localhost:8080/",
          "height": 272
        }
      },
      "source": [
        "print(test)\n",
        "\n",
        "test.to_csv(os.getcwd()+'/drive/My Drive/test_results.csv', index = None, header = True)\n",
        "\n",
        "#print( test.loc[1])\n"
      ],
      "execution_count": 0,
      "outputs": [
        {
          "output_type": "stream",
          "text": [
            "          vx         vy        vz  ...   pred_ax   pred_ay   pred_az\n",
            "id                                 ...                              \n",
            "0  -1.526878  -0.108901 -0.017838  ...  1.503576  0.048024  0.091087\n",
            "0  -1.481712  -0.096803 -0.014761  ...  1.434451  0.048024  0.001586\n",
            "0  -1.419567  -0.085859 -0.021610  ...  1.401165  0.048024  0.032186\n",
            "0  -1.399296  -0.110872 -0.017601  ...  1.470291  0.048024  0.001586\n",
            "0  -1.369596  -0.089351 -0.016559  ...  1.423128  0.011303  0.007997\n",
            "..       ...        ...       ...  ...       ...       ...       ...\n",
            "9   3.005185  11.583946 -0.133874  ...  1.120189  0.456772 -0.007002\n",
            "9   3.099654  11.686730 -0.147780  ...  1.120189  0.456772 -0.007002\n",
            "9   3.194744  11.776173 -0.171306  ...  1.120189  0.456772 -0.007002\n",
            "9   3.291713  11.845561 -0.184306  ...  1.120189  0.456772 -0.007002\n",
            "9   3.386601  11.930219 -0.210015  ...  1.096340  0.456772 -0.007002\n",
            "\n",
            "[1962 rows x 25 columns]\n"
          ],
          "name": "stdout"
        }
      ]
    },
    {
      "cell_type": "code",
      "metadata": {
        "id": "dQmISdoe9N8B",
        "colab_type": "code",
        "outputId": "878d537f-2a07-4d52-ee0d-332f5657cde2",
        "colab": {
          "base_uri": "https://localhost:8080/",
          "height": 272
        }
      },
      "source": [
        "print(test)\n"
      ],
      "execution_count": 0,
      "outputs": [
        {
          "output_type": "stream",
          "text": [
            "          vx         vy        vz  ...   pred_ax   pred_ay   pred_az\n",
            "id                                 ...                              \n",
            "0  -1.526878  -0.108901 -0.017838  ...  1.503576  0.048024  0.091087\n",
            "0  -1.481712  -0.096803 -0.014761  ...  1.434451  0.048024  0.001586\n",
            "0  -1.419567  -0.085859 -0.021610  ...  1.401165  0.048024  0.032186\n",
            "0  -1.399296  -0.110872 -0.017601  ...  1.470291  0.048024  0.001586\n",
            "0  -1.369596  -0.089351 -0.016559  ...  1.423128  0.011303  0.007997\n",
            "..       ...        ...       ...  ...       ...       ...       ...\n",
            "9   3.005185  11.583946 -0.133874  ...  1.120189  0.456772 -0.007002\n",
            "9   3.099654  11.686730 -0.147780  ...  1.120189  0.456772 -0.007002\n",
            "9   3.194744  11.776173 -0.171306  ...  1.120189  0.456772 -0.007002\n",
            "9   3.291713  11.845561 -0.184306  ...  1.120189  0.456772 -0.007002\n",
            "9   3.386601  11.930219 -0.210015  ...  1.096340  0.456772 -0.007002\n",
            "\n",
            "[1962 rows x 25 columns]\n"
          ],
          "name": "stdout"
        }
      ]
    }
  ]
}