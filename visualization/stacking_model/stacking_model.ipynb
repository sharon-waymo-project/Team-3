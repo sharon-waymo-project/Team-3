{
  "nbformat": 4,
  "nbformat_minor": 0,
  "metadata": {
    "colab": {
      "name": "stacking_model.ipynb",
      "provenance": []
    },
    "kernelspec": {
      "name": "python3",
      "display_name": "Python 3"
    }
  },
  "cells": [
    {
      "cell_type": "code",
      "metadata": {
        "id": "T-Bv-7wzxgEg",
        "colab_type": "code",
        "colab": {
          "base_uri": "https://localhost:8080/",
          "height": 34
        },
        "outputId": "091f4041-6807-4a6b-ad1e-2acc23b59f04"
      },
      "source": [
        "from google.colab import drive\n",
        "drive.mount('/content/drive')"
      ],
      "execution_count": 9,
      "outputs": [
        {
          "output_type": "stream",
          "text": [
            "Drive already mounted at /content/drive; to attempt to forcibly remount, call drive.mount(\"/content/drive\", force_remount=True).\n"
          ],
          "name": "stdout"
        }
      ]
    },
    {
      "cell_type": "code",
      "metadata": {
        "id": "lB2jagP5xiTj",
        "colab_type": "code",
        "colab": {}
      },
      "source": [
        "import pandas as pd\n",
        "import numpy as np\n",
        "import xgboost\n",
        "import os\n",
        "from lightgbm import LGBMRegressor\n",
        "from mlxtend.regressor import StackingRegressor\n",
        "from sklearn.linear_model import Lasso\n",
        "from sklearn.model_selection import train_test_split\n",
        "from sklearn.compose import make_column_transformer\n",
        "from sklearn.preprocessing import StandardScaler\n",
        "from sklearn.preprocessing import RobustScaler\n",
        "from sklearn.pipeline import make_pipeline\n",
        "from sklearn.model_selection import cross_val_score\n",
        "from sklearn.ensemble import GradientBoostingRegressor\n",
        "from sklearn.metrics import mean_absolute_error"
      ],
      "execution_count": 0,
      "outputs": []
    },
    {
      "cell_type": "code",
      "metadata": {
        "id": "D3qc9UAMrGav",
        "colab_type": "code",
        "colab": {}
      },
      "source": [
        "train = pd.read_csv('/content/drive/My Drive/new_model/training_large_vx_vy_vz_2.csv')#,header = None)\n",
        "test = pd.read_csv('/content/drive/My Drive/new_model/validation_large_vx_vy_vz_2.csv')#,header = None)"
      ],
      "execution_count": 0,
      "outputs": []
    },
    {
      "cell_type": "code",
      "metadata": {
        "id": "kQG7WLYCsrVz",
        "colab_type": "code",
        "outputId": "5f06b252-703d-41d2-db18-2fe365ec2fed",
        "colab": {
          "base_uri": "https://localhost:8080/",
          "height": 204
        }
      },
      "source": [
        "train.head()"
      ],
      "execution_count": 12,
      "outputs": [
        {
          "output_type": "execute_result",
          "data": {
            "text/html": [
              "<div>\n",
              "<style scoped>\n",
              "    .dataframe tbody tr th:only-of-type {\n",
              "        vertical-align: middle;\n",
              "    }\n",
              "\n",
              "    .dataframe tbody tr th {\n",
              "        vertical-align: top;\n",
              "    }\n",
              "\n",
              "    .dataframe thead th {\n",
              "        text-align: right;\n",
              "    }\n",
              "</style>\n",
              "<table border=\"1\" class=\"dataframe\">\n",
              "  <thead>\n",
              "    <tr style=\"text-align: right;\">\n",
              "      <th></th>\n",
              "      <th>vx</th>\n",
              "      <th>vy</th>\n",
              "      <th>vz</th>\n",
              "      <th>dx</th>\n",
              "      <th>dy</th>\n",
              "      <th>vfx</th>\n",
              "      <th>vfy</th>\n",
              "      <th>vfz</th>\n",
              "      <th>afx</th>\n",
              "      <th>afy</th>\n",
              "      <th>afz</th>\n",
              "      <th>num_v_labels</th>\n",
              "      <th>ax</th>\n",
              "      <th>ay</th>\n",
              "      <th>az</th>\n",
              "      <th>vx_lag_1</th>\n",
              "      <th>vx_lag_2</th>\n",
              "      <th>vy_lag_1</th>\n",
              "      <th>vy_lag_2</th>\n",
              "      <th>vz_lag_1</th>\n",
              "      <th>vz_lag_2</th>\n",
              "    </tr>\n",
              "  </thead>\n",
              "  <tbody>\n",
              "    <tr>\n",
              "      <th>0</th>\n",
              "      <td>-10.861781</td>\n",
              "      <td>-2.179386</td>\n",
              "      <td>-0.006538</td>\n",
              "      <td>0.0</td>\n",
              "      <td>0.0</td>\n",
              "      <td>0.0</td>\n",
              "      <td>0.0</td>\n",
              "      <td>0.0</td>\n",
              "      <td>0.0</td>\n",
              "      <td>0.0</td>\n",
              "      <td>0.0</td>\n",
              "      <td>8.0</td>\n",
              "      <td>-0.679845</td>\n",
              "      <td>0.268508</td>\n",
              "      <td>0.006225</td>\n",
              "      <td>-10.930109</td>\n",
              "      <td>-10.954589</td>\n",
              "      <td>-2.152400</td>\n",
              "      <td>-2.117917</td>\n",
              "      <td>-0.005913</td>\n",
              "      <td>0.012756</td>\n",
              "    </tr>\n",
              "    <tr>\n",
              "      <th>1</th>\n",
              "      <td>-10.822652</td>\n",
              "      <td>-2.210152</td>\n",
              "      <td>-0.011221</td>\n",
              "      <td>0.0</td>\n",
              "      <td>0.0</td>\n",
              "      <td>0.0</td>\n",
              "      <td>0.0</td>\n",
              "      <td>0.0</td>\n",
              "      <td>0.0</td>\n",
              "      <td>0.0</td>\n",
              "      <td>0.0</td>\n",
              "      <td>7.0</td>\n",
              "      <td>-0.389326</td>\n",
              "      <td>0.306114</td>\n",
              "      <td>0.046590</td>\n",
              "      <td>-10.861781</td>\n",
              "      <td>-10.930109</td>\n",
              "      <td>-2.179386</td>\n",
              "      <td>-2.152400</td>\n",
              "      <td>-0.006538</td>\n",
              "      <td>-0.005913</td>\n",
              "    </tr>\n",
              "    <tr>\n",
              "      <th>2</th>\n",
              "      <td>-10.776157</td>\n",
              "      <td>-2.238142</td>\n",
              "      <td>-0.011096</td>\n",
              "      <td>0.0</td>\n",
              "      <td>0.0</td>\n",
              "      <td>0.0</td>\n",
              "      <td>0.0</td>\n",
              "      <td>0.0</td>\n",
              "      <td>0.0</td>\n",
              "      <td>0.0</td>\n",
              "      <td>0.0</td>\n",
              "      <td>7.0</td>\n",
              "      <td>-0.462608</td>\n",
              "      <td>0.278494</td>\n",
              "      <td>-0.001239</td>\n",
              "      <td>-10.822652</td>\n",
              "      <td>-10.861781</td>\n",
              "      <td>-2.210152</td>\n",
              "      <td>-2.179386</td>\n",
              "      <td>-0.011221</td>\n",
              "      <td>-0.006538</td>\n",
              "    </tr>\n",
              "    <tr>\n",
              "      <th>3</th>\n",
              "      <td>-10.738884</td>\n",
              "      <td>-2.270775</td>\n",
              "      <td>-0.017484</td>\n",
              "      <td>0.0</td>\n",
              "      <td>0.0</td>\n",
              "      <td>0.0</td>\n",
              "      <td>0.0</td>\n",
              "      <td>0.0</td>\n",
              "      <td>0.0</td>\n",
              "      <td>0.0</td>\n",
              "      <td>0.0</td>\n",
              "      <td>7.0</td>\n",
              "      <td>-0.370861</td>\n",
              "      <td>0.324686</td>\n",
              "      <td>0.063559</td>\n",
              "      <td>-10.776157</td>\n",
              "      <td>-10.822652</td>\n",
              "      <td>-2.238142</td>\n",
              "      <td>-2.210152</td>\n",
              "      <td>-0.011096</td>\n",
              "      <td>-0.011221</td>\n",
              "    </tr>\n",
              "    <tr>\n",
              "      <th>4</th>\n",
              "      <td>-10.702093</td>\n",
              "      <td>-2.299289</td>\n",
              "      <td>-0.027242</td>\n",
              "      <td>0.0</td>\n",
              "      <td>0.0</td>\n",
              "      <td>0.0</td>\n",
              "      <td>0.0</td>\n",
              "      <td>0.0</td>\n",
              "      <td>0.0</td>\n",
              "      <td>0.0</td>\n",
              "      <td>0.0</td>\n",
              "      <td>7.0</td>\n",
              "      <td>-0.366060</td>\n",
              "      <td>0.283704</td>\n",
              "      <td>0.097093</td>\n",
              "      <td>-10.738884</td>\n",
              "      <td>-10.776157</td>\n",
              "      <td>-2.270775</td>\n",
              "      <td>-2.238142</td>\n",
              "      <td>-0.017484</td>\n",
              "      <td>-0.011096</td>\n",
              "    </tr>\n",
              "  </tbody>\n",
              "</table>\n",
              "</div>"
            ],
            "text/plain": [
              "          vx        vy        vz   dx  ...  vy_lag_1  vy_lag_2  vz_lag_1  vz_lag_2\n",
              "0 -10.861781 -2.179386 -0.006538  0.0  ... -2.152400 -2.117917 -0.005913  0.012756\n",
              "1 -10.822652 -2.210152 -0.011221  0.0  ... -2.179386 -2.152400 -0.006538 -0.005913\n",
              "2 -10.776157 -2.238142 -0.011096  0.0  ... -2.210152 -2.179386 -0.011221 -0.006538\n",
              "3 -10.738884 -2.270775 -0.017484  0.0  ... -2.238142 -2.210152 -0.011096 -0.011221\n",
              "4 -10.702093 -2.299289 -0.027242  0.0  ... -2.270775 -2.238142 -0.017484 -0.011096\n",
              "\n",
              "[5 rows x 21 columns]"
            ]
          },
          "metadata": {
            "tags": []
          },
          "execution_count": 12
        }
      ]
    },
    {
      "cell_type": "code",
      "metadata": {
        "id": "UnRzNDv9zYpk",
        "colab_type": "code",
        "colab": {
          "base_uri": "https://localhost:8080/",
          "height": 34
        },
        "outputId": "379d9d22-835e-4a39-86ef-89f777dbd8b1"
      },
      "source": [
        "\n",
        "print(train.shape, test.shape)"
      ],
      "execution_count": 16,
      "outputs": [
        {
          "output_type": "stream",
          "text": [
            "(156765, 21) (29454, 22)\n"
          ],
          "name": "stdout"
        }
      ]
    },
    {
      "cell_type": "code",
      "metadata": {
        "id": "-_Ovd0hBssjg",
        "colab_type": "code",
        "colab": {}
      },
      "source": [
        "X = train.loc[:,['vx', 'vy', 'vz', 'dx', 'dy', 'vfx', 'vfy', 'vfz', 'afx', 'afy', 'afz', 'num_v_labels',\n",
        "                 'vx_lag_1','vy_lag_1','vz_lag_1','vx_lag_2','vy_lag_2','vz_lag_2']]\n",
        "Y_ax = train.loc[:,['ax']].values.ravel() # flatten to 1d array\n",
        "Y_ay = train.loc[:,['ay']].values.ravel()\n",
        "Y_az = train.loc[:,['az']].values.ravel()\n",
        "\n",
        "\n",
        "# y = Y_ax\n",
        "X_train_ax, X_test_ax, y_train_ax, y_test_ax = train_test_split(X, Y_ax)\n",
        "X_train_ay, X_test_ay, y_train_ay, y_test_ay = train_test_split(X, Y_ay)\n",
        "X_train_az, X_test_az, y_train_az, y_test_az = train_test_split(X, Y_az)"
      ],
      "execution_count": 0,
      "outputs": []
    },
    {
      "cell_type": "code",
      "metadata": {
        "id": "SINu97qwsydr",
        "colab_type": "code",
        "colab": {}
      },
      "source": [
        "def stacking_model(X_train,y_train):\n",
        "    \n",
        "    lasso = Lasso(alpha = 1e-3)\n",
        "    GBC = GradientBoostingRegressor(alpha = 0.85,n_estimators = 1000,max_depth = 3)\n",
        "    LGB = LGBMRegressor(objective='regression',num_leaves=5, learning_rate=0.05, n_estimators=800)\n",
        "    XGB = xgboost.XGBRegressor(gamma=0.05,learning_rate=0.05, max_depth=3, n_estimators=2500,reg_alpha=0.5, reg_lambda=0.85)\n",
        "\n",
        "    categorical = X_train.dtypes == object\n",
        "    model_SR = make_pipeline(RobustScaler(), StackingRegressor(regressors=[LGB,lasso,XGB], meta_regressor=lasso))\n",
        "\n",
        "    scores = cross_val_score(model_SR, X_train, y_train, scoring='neg_median_absolute_error',cv=5, n_jobs = -1)\n",
        "    print(\"Stacking Regressor score: \", -scores.mean(), ' std: ', scores.std())\n",
        "    \n",
        "    return model_SR"
      ],
      "execution_count": 0,
      "outputs": []
    },
    {
      "cell_type": "code",
      "metadata": {
        "id": "bHo_jC_Es0VK",
        "colab_type": "code",
        "colab": {
          "base_uri": "https://localhost:8080/",
          "height": 34
        },
        "outputId": "abb65cca-63bd-4eff-ce4d-46c557ce71e0"
      },
      "source": [
        "model_SR = stacking_model(X_train_ax,y_train_ax)"
      ],
      "execution_count": 19,
      "outputs": [
        {
          "output_type": "stream",
          "text": [
            "Stacking Regressor score:  0.07419189599202769  std:  0.0010956232652002396\n"
          ],
          "name": "stdout"
        }
      ]
    },
    {
      "cell_type": "code",
      "metadata": {
        "id": "_CURZ3Xrs2QR",
        "colab_type": "code",
        "colab": {
          "base_uri": "https://localhost:8080/",
          "height": 131
        },
        "outputId": "ae9efa1f-2804-4acb-fe56-86ea07ee8511"
      },
      "source": [
        "test.head(2)"
      ],
      "execution_count": 20,
      "outputs": [
        {
          "output_type": "execute_result",
          "data": {
            "text/html": [
              "<div>\n",
              "<style scoped>\n",
              "    .dataframe tbody tr th:only-of-type {\n",
              "        vertical-align: middle;\n",
              "    }\n",
              "\n",
              "    .dataframe tbody tr th {\n",
              "        vertical-align: top;\n",
              "    }\n",
              "\n",
              "    .dataframe thead th {\n",
              "        text-align: right;\n",
              "    }\n",
              "</style>\n",
              "<table border=\"1\" class=\"dataframe\">\n",
              "  <thead>\n",
              "    <tr style=\"text-align: right;\">\n",
              "      <th></th>\n",
              "      <th>vx</th>\n",
              "      <th>vy</th>\n",
              "      <th>vz</th>\n",
              "      <th>dx</th>\n",
              "      <th>dy</th>\n",
              "      <th>vfx</th>\n",
              "      <th>vfy</th>\n",
              "      <th>vfz</th>\n",
              "      <th>afx</th>\n",
              "      <th>afy</th>\n",
              "      <th>afz</th>\n",
              "      <th>num_v_labels</th>\n",
              "      <th>ax</th>\n",
              "      <th>ay</th>\n",
              "      <th>az</th>\n",
              "      <th>vx_lag_1</th>\n",
              "      <th>vx_lag_2</th>\n",
              "      <th>vy_lag_1</th>\n",
              "      <th>vy_lag_2</th>\n",
              "      <th>vz_lag_1</th>\n",
              "      <th>vz_lag_2</th>\n",
              "      <th>pred_ax</th>\n",
              "    </tr>\n",
              "  </thead>\n",
              "  <tbody>\n",
              "    <tr>\n",
              "      <th>0</th>\n",
              "      <td>-1.526878</td>\n",
              "      <td>-0.108901</td>\n",
              "      <td>-0.017838</td>\n",
              "      <td>19.787335</td>\n",
              "      <td>1.781145</td>\n",
              "      <td>1.513234</td>\n",
              "      <td>0.096556</td>\n",
              "      <td>0.017846</td>\n",
              "      <td>0.131049</td>\n",
              "      <td>-0.189679</td>\n",
              "      <td>-0.136688</td>\n",
              "      <td>27.0</td>\n",
              "      <td>-0.131177</td>\n",
              "      <td>0.189820</td>\n",
              "      <td>0.136591</td>\n",
              "      <td>-1.540062</td>\n",
              "      <td>-1.602124</td>\n",
              "      <td>-0.089823</td>\n",
              "      <td>-0.096249</td>\n",
              "      <td>-0.004110</td>\n",
              "      <td>-0.00029</td>\n",
              "      <td>-0.429615</td>\n",
              "    </tr>\n",
              "    <tr>\n",
              "      <th>1</th>\n",
              "      <td>-1.481712</td>\n",
              "      <td>-0.096803</td>\n",
              "      <td>-0.014761</td>\n",
              "      <td>19.638062</td>\n",
              "      <td>1.751421</td>\n",
              "      <td>1.468087</td>\n",
              "      <td>0.084437</td>\n",
              "      <td>0.014786</td>\n",
              "      <td>0.449209</td>\n",
              "      <td>0.120582</td>\n",
              "      <td>0.030447</td>\n",
              "      <td>27.0</td>\n",
              "      <td>-0.449395</td>\n",
              "      <td>-0.120376</td>\n",
              "      <td>-0.030618</td>\n",
              "      <td>-1.526878</td>\n",
              "      <td>-1.540062</td>\n",
              "      <td>-0.108901</td>\n",
              "      <td>-0.089823</td>\n",
              "      <td>-0.017838</td>\n",
              "      <td>-0.00411</td>\n",
              "      <td>-0.581069</td>\n",
              "    </tr>\n",
              "  </tbody>\n",
              "</table>\n",
              "</div>"
            ],
            "text/plain": [
              "         vx        vy        vz  ...  vz_lag_1  vz_lag_2   pred_ax\n",
              "0 -1.526878 -0.108901 -0.017838  ... -0.004110  -0.00029 -0.429615\n",
              "1 -1.481712 -0.096803 -0.014761  ... -0.017838  -0.00411 -0.581069\n",
              "\n",
              "[2 rows x 22 columns]"
            ]
          },
          "metadata": {
            "tags": []
          },
          "execution_count": 20
        }
      ]
    },
    {
      "cell_type": "code",
      "metadata": {
        "id": "0a3OA6Ohs4lR",
        "colab_type": "code",
        "colab": {}
      },
      "source": [
        "X_val = test.loc[:,['vx', 'vy', 'vz', 'dx', 'dy', 'vfx', 'vfy', 'vfz', 'afx', 'afy', 'afz', 'num_v_labels',\n",
        "                    'vx_lag_1','vy_lag_1','vz_lag_1','vx_lag_2','vy_lag_2','vz_lag_2']]\n",
        "y_val_ax = test.loc[:, ['ax']].values.ravel()\n",
        "y_val_ay = test.loc[:, ['ay']].values.ravel()\n",
        "y_val_az = test.loc[:, ['az']].values.ravel()\n"
      ],
      "execution_count": 0,
      "outputs": []
    },
    {
      "cell_type": "code",
      "metadata": {
        "id": "ZOskwuxIs5Dt",
        "colab_type": "code",
        "colab": {
          "base_uri": "https://localhost:8080/",
          "height": 105
        },
        "outputId": "e88d576f-a2aa-44c6-b68e-7e4535091079"
      },
      "source": [
        "model_SR.fit(X_train_ax,y_train_ax)\n",
        "yx_pred_SR = model_SR.predict(X_val)\n",
        "print(\"MAE of SR for ax:\", mean_absolute_error(y_val_ax,yx_pred_SR))"
      ],
      "execution_count": 33,
      "outputs": [
        {
          "output_type": "stream",
          "text": [
            "/usr/local/lib/python3.6/dist-packages/sklearn/linear_model/coordinate_descent.py:475: ConvergenceWarning: Objective did not converge. You might want to increase the number of iterations. Duality gap: 14520.321308066306, tolerance: 4.045319874222702\n",
            "  positive)\n"
          ],
          "name": "stderr"
        },
        {
          "output_type": "stream",
          "text": [
            "[14:11:05] WARNING: /workspace/src/objective/regression_obj.cu:152: reg:linear is now deprecated in favor of reg:squarederror.\n",
            "MAE of SR: 0.13564112483476265\n"
          ],
          "name": "stdout"
        }
      ]
    },
    {
      "cell_type": "code",
      "metadata": {
        "id": "4EXZWpD8s-eH",
        "colab_type": "code",
        "colab": {
          "base_uri": "https://localhost:8080/",
          "height": 105
        },
        "outputId": "cdeeaa65-9ed4-4d02-cfd9-77e415ad6edd"
      },
      "source": [
        "model_SR.fit(X_train_ay,y_train_ay)\n",
        "yy_pred_SR = model_SR.predict(X_val)\n",
        "print(\"MAE of SR for ay:\", mean_absolute_error(y_val_ay,yy_pred_SR))"
      ],
      "execution_count": 32,
      "outputs": [
        {
          "output_type": "stream",
          "text": [
            "/usr/local/lib/python3.6/dist-packages/sklearn/linear_model/coordinate_descent.py:475: ConvergenceWarning: Objective did not converge. You might want to increase the number of iterations. Duality gap: 14640.178301691034, tolerance: 4.094318563924868\n",
            "  positive)\n"
          ],
          "name": "stderr"
        },
        {
          "output_type": "stream",
          "text": [
            "[14:03:25] WARNING: /workspace/src/objective/regression_obj.cu:152: reg:linear is now deprecated in favor of reg:squarederror.\n",
            "MAE of SR: 0.09939852855697086\n"
          ],
          "name": "stdout"
        }
      ]
    },
    {
      "cell_type": "code",
      "metadata": {
        "id": "GdP2bzZDHlzt",
        "colab_type": "code",
        "colab": {
          "base_uri": "https://localhost:8080/",
          "height": 105
        },
        "outputId": "f6b385a2-046e-4586-efe8-d975d15b1af6"
      },
      "source": [
        "model_SR.fit(X_train_az,y_train_az)\n",
        "yz_pred_SR = model_SR.predict(X_val)\n",
        "print(\"MAE of SR for az:\", mean_absolute_error(y_val_az,yz_pred_SR))"
      ],
      "execution_count": 34,
      "outputs": [
        {
          "output_type": "stream",
          "text": [
            "/usr/local/lib/python3.6/dist-packages/sklearn/linear_model/coordinate_descent.py:475: ConvergenceWarning: Objective did not converge. You might want to increase the number of iterations. Duality gap: 177.65284141250757, tolerance: 1.0845432794016427\n",
            "  positive)\n"
          ],
          "name": "stderr"
        },
        {
          "output_type": "stream",
          "text": [
            "[14:17:45] WARNING: /workspace/src/objective/regression_obj.cu:152: reg:linear is now deprecated in favor of reg:squarederror.\n",
            "MAE of SR for az: 0.0024232427907149483\n"
          ],
          "name": "stdout"
        }
      ]
    },
    {
      "cell_type": "code",
      "metadata": {
        "id": "oxGcJTTZGfch",
        "colab_type": "code",
        "colab": {}
      },
      "source": [
        "test['pred_ax'] = yx_pred_SR #ax prediction\n",
        "\n",
        "test['pred_ay'] = yy_pred_SR #ay prediction\n",
        "\n",
        "test['pred_az'] = yz_pred_SR #az prediction"
      ],
      "execution_count": 0,
      "outputs": []
    },
    {
      "cell_type": "code",
      "metadata": {
        "id": "W1_gNUuMIutG",
        "colab_type": "code",
        "colab": {}
      },
      "source": [
        "test.to_csv(os.getcwd()+'/drive/My Drive/new_model/test_results_stacking_model.csv')"
      ],
      "execution_count": 0,
      "outputs": []
    },
    {
      "cell_type": "code",
      "metadata": {
        "id": "a2H5p6_dclh_",
        "colab_type": "code",
        "colab": {
          "base_uri": "https://localhost:8080/",
          "height": 507
        },
        "outputId": "29b77246-4cb3-47d8-bd2f-879e6c346b71"
      },
      "source": [
        "test.head(200)"
      ],
      "execution_count": 59,
      "outputs": [
        {
          "output_type": "execute_result",
          "data": {
            "text/html": [
              "<div>\n",
              "<style scoped>\n",
              "    .dataframe tbody tr th:only-of-type {\n",
              "        vertical-align: middle;\n",
              "    }\n",
              "\n",
              "    .dataframe tbody tr th {\n",
              "        vertical-align: top;\n",
              "    }\n",
              "\n",
              "    .dataframe thead th {\n",
              "        text-align: right;\n",
              "    }\n",
              "</style>\n",
              "<table border=\"1\" class=\"dataframe\">\n",
              "  <thead>\n",
              "    <tr style=\"text-align: right;\">\n",
              "      <th></th>\n",
              "      <th>vx</th>\n",
              "      <th>vy</th>\n",
              "      <th>vz</th>\n",
              "      <th>dx</th>\n",
              "      <th>dy</th>\n",
              "      <th>vfx</th>\n",
              "      <th>vfy</th>\n",
              "      <th>vfz</th>\n",
              "      <th>afx</th>\n",
              "      <th>afy</th>\n",
              "      <th>afz</th>\n",
              "      <th>num_v_labels</th>\n",
              "      <th>ax</th>\n",
              "      <th>ay</th>\n",
              "      <th>az</th>\n",
              "      <th>vx_lag_1</th>\n",
              "      <th>vx_lag_2</th>\n",
              "      <th>vy_lag_1</th>\n",
              "      <th>vy_lag_2</th>\n",
              "      <th>vz_lag_1</th>\n",
              "      <th>vz_lag_2</th>\n",
              "      <th>pred_ax</th>\n",
              "      <th>pred_ay</th>\n",
              "      <th>pred_az</th>\n",
              "    </tr>\n",
              "  </thead>\n",
              "  <tbody>\n",
              "    <tr>\n",
              "      <th>0</th>\n",
              "      <td>-1.526878</td>\n",
              "      <td>-0.108901</td>\n",
              "      <td>-0.017838</td>\n",
              "      <td>19.787335</td>\n",
              "      <td>1.781145</td>\n",
              "      <td>1.513234</td>\n",
              "      <td>0.096556</td>\n",
              "      <td>0.017846</td>\n",
              "      <td>1.310494e-01</td>\n",
              "      <td>-1.896789e-01</td>\n",
              "      <td>-1.366879e-01</td>\n",
              "      <td>27.0</td>\n",
              "      <td>-0.131177</td>\n",
              "      <td>0.189820</td>\n",
              "      <td>0.136591</td>\n",
              "      <td>-1.540062</td>\n",
              "      <td>-1.602124</td>\n",
              "      <td>-0.089823</td>\n",
              "      <td>-0.096249</td>\n",
              "      <td>-0.004110</td>\n",
              "      <td>-0.000290</td>\n",
              "      <td>-0.243499</td>\n",
              "      <td>0.147121</td>\n",
              "      <td>0.134961</td>\n",
              "    </tr>\n",
              "    <tr>\n",
              "      <th>1</th>\n",
              "      <td>-1.481712</td>\n",
              "      <td>-0.096803</td>\n",
              "      <td>-0.014761</td>\n",
              "      <td>19.638062</td>\n",
              "      <td>1.751421</td>\n",
              "      <td>1.468087</td>\n",
              "      <td>0.084437</td>\n",
              "      <td>0.014786</td>\n",
              "      <td>4.492090e-01</td>\n",
              "      <td>1.205818e-01</td>\n",
              "      <td>3.044723e-02</td>\n",
              "      <td>27.0</td>\n",
              "      <td>-0.449395</td>\n",
              "      <td>-0.120376</td>\n",
              "      <td>-0.030618</td>\n",
              "      <td>-1.526878</td>\n",
              "      <td>-1.540062</td>\n",
              "      <td>-0.108901</td>\n",
              "      <td>-0.089823</td>\n",
              "      <td>-0.017838</td>\n",
              "      <td>-0.004110</td>\n",
              "      <td>-0.420456</td>\n",
              "      <td>-0.017247</td>\n",
              "      <td>-0.029119</td>\n",
              "    </tr>\n",
              "    <tr>\n",
              "      <th>2</th>\n",
              "      <td>-1.419567</td>\n",
              "      <td>-0.085859</td>\n",
              "      <td>-0.021610</td>\n",
              "      <td>19.492854</td>\n",
              "      <td>1.733913</td>\n",
              "      <td>1.405953</td>\n",
              "      <td>0.073481</td>\n",
              "      <td>0.021631</td>\n",
              "      <td>6.182091e-01</td>\n",
              "      <td>1.090158e-01</td>\n",
              "      <td>-6.810687e-02</td>\n",
              "      <td>27.0</td>\n",
              "      <td>-0.618327</td>\n",
              "      <td>-0.108886</td>\n",
              "      <td>0.068148</td>\n",
              "      <td>-1.481712</td>\n",
              "      <td>-1.526878</td>\n",
              "      <td>-0.096803</td>\n",
              "      <td>-0.108901</td>\n",
              "      <td>-0.014761</td>\n",
              "      <td>-0.017838</td>\n",
              "      <td>-0.644870</td>\n",
              "      <td>-0.089520</td>\n",
              "      <td>0.066935</td>\n",
              "    </tr>\n",
              "    <tr>\n",
              "      <th>3</th>\n",
              "      <td>-1.399296</td>\n",
              "      <td>-0.110872</td>\n",
              "      <td>-0.017601</td>\n",
              "      <td>19.351571</td>\n",
              "      <td>1.713411</td>\n",
              "      <td>1.385692</td>\n",
              "      <td>0.098483</td>\n",
              "      <td>0.017623</td>\n",
              "      <td>2.015969e-01</td>\n",
              "      <td>-2.487663e-01</td>\n",
              "      <td>3.988232e-02</td>\n",
              "      <td>28.0</td>\n",
              "      <td>-0.201692</td>\n",
              "      <td>0.248871</td>\n",
              "      <td>-0.039894</td>\n",
              "      <td>-1.419567</td>\n",
              "      <td>-1.481712</td>\n",
              "      <td>-0.085859</td>\n",
              "      <td>-0.096803</td>\n",
              "      <td>-0.021610</td>\n",
              "      <td>-0.014761</td>\n",
              "      <td>-0.348517</td>\n",
              "      <td>0.174215</td>\n",
              "      <td>-0.038807</td>\n",
              "    </tr>\n",
              "    <tr>\n",
              "      <th>4</th>\n",
              "      <td>-1.369596</td>\n",
              "      <td>-0.089351</td>\n",
              "      <td>-0.016559</td>\n",
              "      <td>19.215781</td>\n",
              "      <td>1.675868</td>\n",
              "      <td>1.356016</td>\n",
              "      <td>0.076936</td>\n",
              "      <td>0.016581</td>\n",
              "      <td>2.952661e-01</td>\n",
              "      <td>2.143850e-01</td>\n",
              "      <td>1.036977e-02</td>\n",
              "      <td>28.0</td>\n",
              "      <td>-0.295503</td>\n",
              "      <td>-0.214125</td>\n",
              "      <td>-0.010365</td>\n",
              "      <td>-1.399296</td>\n",
              "      <td>-1.419567</td>\n",
              "      <td>-0.110872</td>\n",
              "      <td>-0.085859</td>\n",
              "      <td>-0.017601</td>\n",
              "      <td>-0.021610</td>\n",
              "      <td>-0.285627</td>\n",
              "      <td>-0.071894</td>\n",
              "      <td>-0.010548</td>\n",
              "    </tr>\n",
              "    <tr>\n",
              "      <th>...</th>\n",
              "      <td>...</td>\n",
              "      <td>...</td>\n",
              "      <td>...</td>\n",
              "      <td>...</td>\n",
              "      <td>...</td>\n",
              "      <td>...</td>\n",
              "      <td>...</td>\n",
              "      <td>...</td>\n",
              "      <td>...</td>\n",
              "      <td>...</td>\n",
              "      <td>...</td>\n",
              "      <td>...</td>\n",
              "      <td>...</td>\n",
              "      <td>...</td>\n",
              "      <td>...</td>\n",
              "      <td>...</td>\n",
              "      <td>...</td>\n",
              "      <td>...</td>\n",
              "      <td>...</td>\n",
              "      <td>...</td>\n",
              "      <td>...</td>\n",
              "      <td>...</td>\n",
              "      <td>...</td>\n",
              "      <td>...</td>\n",
              "    </tr>\n",
              "    <tr>\n",
              "      <th>195</th>\n",
              "      <td>0.000000</td>\n",
              "      <td>0.000000</td>\n",
              "      <td>0.000000</td>\n",
              "      <td>12.674712</td>\n",
              "      <td>0.414630</td>\n",
              "      <td>-0.000159</td>\n",
              "      <td>-0.000170</td>\n",
              "      <td>0.000003</td>\n",
              "      <td>-3.199935e-09</td>\n",
              "      <td>-1.992128e-09</td>\n",
              "      <td>-3.120161e-07</td>\n",
              "      <td>24.0</td>\n",
              "      <td>0.000000</td>\n",
              "      <td>0.000000</td>\n",
              "      <td>0.000000</td>\n",
              "      <td>0.000000</td>\n",
              "      <td>0.000000</td>\n",
              "      <td>0.000000</td>\n",
              "      <td>0.000000</td>\n",
              "      <td>0.000000</td>\n",
              "      <td>0.000000</td>\n",
              "      <td>-0.008823</td>\n",
              "      <td>-0.001546</td>\n",
              "      <td>-0.000015</td>\n",
              "    </tr>\n",
              "    <tr>\n",
              "      <th>196</th>\n",
              "      <td>0.000000</td>\n",
              "      <td>0.000000</td>\n",
              "      <td>0.000000</td>\n",
              "      <td>12.674799</td>\n",
              "      <td>0.415880</td>\n",
              "      <td>-0.000159</td>\n",
              "      <td>-0.000170</td>\n",
              "      <td>0.000003</td>\n",
              "      <td>5.126831e-09</td>\n",
              "      <td>7.635116e-10</td>\n",
              "      <td>3.485290e-07</td>\n",
              "      <td>24.0</td>\n",
              "      <td>0.000000</td>\n",
              "      <td>0.000000</td>\n",
              "      <td>0.000000</td>\n",
              "      <td>0.000000</td>\n",
              "      <td>0.000000</td>\n",
              "      <td>0.000000</td>\n",
              "      <td>0.000000</td>\n",
              "      <td>0.000000</td>\n",
              "      <td>0.000000</td>\n",
              "      <td>-0.008603</td>\n",
              "      <td>-0.001674</td>\n",
              "      <td>-0.000015</td>\n",
              "    </tr>\n",
              "    <tr>\n",
              "      <th>197</th>\n",
              "      <td>-0.043760</td>\n",
              "      <td>-6.049102</td>\n",
              "      <td>0.030256</td>\n",
              "      <td>0.000000</td>\n",
              "      <td>0.000000</td>\n",
              "      <td>0.000000</td>\n",
              "      <td>0.000000</td>\n",
              "      <td>0.000000</td>\n",
              "      <td>0.000000e+00</td>\n",
              "      <td>0.000000e+00</td>\n",
              "      <td>0.000000e+00</td>\n",
              "      <td>49.0</td>\n",
              "      <td>0.112609</td>\n",
              "      <td>1.367826</td>\n",
              "      <td>0.012920</td>\n",
              "      <td>-0.032442</td>\n",
              "      <td>-0.020138</td>\n",
              "      <td>-5.911625</td>\n",
              "      <td>-5.785427</td>\n",
              "      <td>0.031554</td>\n",
              "      <td>0.032549</td>\n",
              "      <td>0.006728</td>\n",
              "      <td>1.249368</td>\n",
              "      <td>0.012837</td>\n",
              "    </tr>\n",
              "    <tr>\n",
              "      <th>198</th>\n",
              "      <td>-0.051979</td>\n",
              "      <td>-6.179709</td>\n",
              "      <td>0.019482</td>\n",
              "      <td>0.000000</td>\n",
              "      <td>0.000000</td>\n",
              "      <td>0.000000</td>\n",
              "      <td>0.000000</td>\n",
              "      <td>0.000000</td>\n",
              "      <td>0.000000e+00</td>\n",
              "      <td>0.000000e+00</td>\n",
              "      <td>0.000000e+00</td>\n",
              "      <td>49.0</td>\n",
              "      <td>0.081774</td>\n",
              "      <td>1.299470</td>\n",
              "      <td>0.107188</td>\n",
              "      <td>-0.043760</td>\n",
              "      <td>-0.032442</td>\n",
              "      <td>-6.049102</td>\n",
              "      <td>-5.911625</td>\n",
              "      <td>0.030256</td>\n",
              "      <td>0.031554</td>\n",
              "      <td>0.003224</td>\n",
              "      <td>1.381648</td>\n",
              "      <td>0.105795</td>\n",
              "    </tr>\n",
              "    <tr>\n",
              "      <th>199</th>\n",
              "      <td>-0.055824</td>\n",
              "      <td>-6.305515</td>\n",
              "      <td>0.028413</td>\n",
              "      <td>0.000000</td>\n",
              "      <td>0.000000</td>\n",
              "      <td>0.000000</td>\n",
              "      <td>0.000000</td>\n",
              "      <td>0.000000</td>\n",
              "      <td>0.000000e+00</td>\n",
              "      <td>0.000000e+00</td>\n",
              "      <td>0.000000e+00</td>\n",
              "      <td>49.0</td>\n",
              "      <td>0.038254</td>\n",
              "      <td>1.251705</td>\n",
              "      <td>-0.088858</td>\n",
              "      <td>-0.051979</td>\n",
              "      <td>-0.043760</td>\n",
              "      <td>-6.179709</td>\n",
              "      <td>-6.049102</td>\n",
              "      <td>0.019482</td>\n",
              "      <td>0.030256</td>\n",
              "      <td>-0.017121</td>\n",
              "      <td>1.278248</td>\n",
              "      <td>-0.086747</td>\n",
              "    </tr>\n",
              "  </tbody>\n",
              "</table>\n",
              "<p>200 rows × 24 columns</p>\n",
              "</div>"
            ],
            "text/plain": [
              "           vx        vy        vz  ...   pred_ax   pred_ay   pred_az\n",
              "0   -1.526878 -0.108901 -0.017838  ... -0.243499  0.147121  0.134961\n",
              "1   -1.481712 -0.096803 -0.014761  ... -0.420456 -0.017247 -0.029119\n",
              "2   -1.419567 -0.085859 -0.021610  ... -0.644870 -0.089520  0.066935\n",
              "3   -1.399296 -0.110872 -0.017601  ... -0.348517  0.174215 -0.038807\n",
              "4   -1.369596 -0.089351 -0.016559  ... -0.285627 -0.071894 -0.010548\n",
              "..        ...       ...       ...  ...       ...       ...       ...\n",
              "195  0.000000  0.000000  0.000000  ... -0.008823 -0.001546 -0.000015\n",
              "196  0.000000  0.000000  0.000000  ... -0.008603 -0.001674 -0.000015\n",
              "197 -0.043760 -6.049102  0.030256  ...  0.006728  1.249368  0.012837\n",
              "198 -0.051979 -6.179709  0.019482  ...  0.003224  1.381648  0.105795\n",
              "199 -0.055824 -6.305515  0.028413  ... -0.017121  1.278248 -0.086747\n",
              "\n",
              "[200 rows x 24 columns]"
            ]
          },
          "metadata": {
            "tags": []
          },
          "execution_count": 59
        }
      ]
    },
    {
      "cell_type": "code",
      "metadata": {
        "id": "xBZ4f3CcXC-c",
        "colab_type": "code",
        "colab": {
          "base_uri": "https://localhost:8080/",
          "height": 356
        },
        "outputId": "c7a3f1b7-d745-4e9d-b5a5-12445ff34326"
      },
      "source": [
        "import matplotlib.pyplot as plt\n",
        "\n",
        "sub_test = test.loc[:196]\n",
        "\n",
        "sub_test = sub_test.reset_index()\n",
        "\n",
        "# Plot the forecast with the actuals\n",
        "f, ax = plt.subplots(1)\n",
        "\n",
        "f.set_figheight(5)\n",
        "f.set_figwidth(15)\n",
        "_ = sub_test[['ax', 'pred_ax']].plot(ax=ax, style=['-','.'])\n",
        "plot = plt.suptitle(\"Baseline (XGBoost) w lag:['vx', 'vy', 'vz'] prev_n = 1 test_sample #0\")"
      ],
      "execution_count": 62,
      "outputs": [
        {
          "output_type": "display_data",
          "data": {
            "image/png": "[encoded data removed]",
            "text/plain": [
              "<Figure size 1080x360 with 1 Axes>"
            ]
          },
          "metadata": {
            "tags": []
          }
        }
      ]
    }
  ]
}